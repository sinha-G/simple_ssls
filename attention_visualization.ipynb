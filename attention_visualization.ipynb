{
 "cells": [
  {
   "cell_type": "code",
   "execution_count": 1,
   "metadata": {},
   "outputs": [],
   "source": [
    "import os\n",
    "import torch\n",
    "from models import CNN, ViT\n",
    "from trainers import SimCLRTrainer, DINOTrainer\n",
    "from datasets import get_mnist_loaders, get_cifar10_loaders, get_imagenet_loaders\n",
    "from torch.utils.data import random_split, DataLoader\n",
    "os.environ['CUDA_LAUNCH_BLOCKING'] = '1'"
   ]
  },
  {
   "cell_type": "code",
   "execution_count": 2,
   "metadata": {},
   "outputs": [],
   "source": [
    "batch_size = 64\n",
    "\n",
    "model = ViT(\n",
    "        chw = (3, 128, 128),\n",
    "        n_patches = 16,\n",
    "        n_blocks = 4,\n",
    "        hidden_d = 512,\n",
    "        n_heads = 8,\n",
    "        num_classes = 1000,\n",
    "        dropout = 0.1\n",
    "    ).to('cuda')"
   ]
  },
  {
   "cell_type": "code",
   "execution_count": null,
   "metadata": {},
   "outputs": [],
   "source": [
    "# Get data loaders\n",
    "print(\"Loading data...\")\n",
    "train_loader, test_loader = get_imagenet_loaders(batch_size=batch_size, num_workers=4)\n",
    "\n",
    "# Split the dataset into two parts\n",
    "print(\"Splitting dataset...\")\n",
    "M = 0.000001   # Proportion of data to use for pretraining\n",
    "split = [M, 1 - M] if M < 1 else [len(train_loader.dataset) - M, M]\n",
    "pretrain_dataset, finetune_dataset = random_split(train_loader.dataset, split)"
   ]
  },
  {
   "cell_type": "code",
   "execution_count": 4,
   "metadata": {},
   "outputs": [],
   "source": [
    "pretrain_loader = DataLoader(\n",
    "    pretrain_dataset, \n",
    "    batch_size=batch_size, \n",
    "    shuffle=True, \n",
    "    num_workers=4\n",
    ")\n",
    "finetune_loader = DataLoader(\n",
    "    finetune_dataset,\n",
    "    batch_size=batch_size,\n",
    "    shuffle=True,\n",
    "    num_workers=4\n",
    ")\n",
    "\n",
    "# Initialize DINO trainer\n",
    "dino_trainer = DINOTrainer(\n",
    "    model,\n",
    "    lr=0.00005,\n",
    "    momentum_teacher=0.996,\n",
    "    momentum_center=0.9,\n",
    "    temp_student=0.1,\n",
    "    temp_teacher=0.04,\n",
    "    n_local_views=6\n",
    ")"
   ]
  },
  {
   "cell_type": "code",
   "execution_count": null,
   "metadata": {},
   "outputs": [],
   "source": [
    "# Finetune DINO model\n",
    "print(\"\\nFinetuning DINO model...\")\n",
    "dino_history = dino_trainer.finetune(\n",
    "    train_loader=finetune_loader,\n",
    "    test_loader=test_loader,\n",
    "    epochs=20,\n",
    "    lr=0.0001,\n",
    "    patience=10,\n",
    "    evaluate_every=2\n",
    ")"
   ]
  },
  {
   "cell_type": "code",
   "execution_count": null,
   "metadata": {},
   "outputs": [],
   "source": [
    "classes = ['airplane', 'automobile', 'bird', 'cat', 'deer', 'dog', 'frog', 'horse', 'ship', 'truck']\n",
    "for i in range(3):\n",
    "    for l in range(4):\n",
    "        for h in range(4):\n",
    "            model.visualize_attention(\n",
    "                images=test_loader.dataset[i][0].unsqueeze(0).to('cuda'),\n",
    "                layer_idx=l,  # Visualize third transformer block\n",
    "                head_idx=h,   # Visualize first attention head\n",
    "                # save_path='attention_map.png'\n",
    "            )\n",
    "            print(classes[test_loader.dataset[i][1]])"
   ]
  }
 ],
 "metadata": {
  "kernelspec": {
   "display_name": "cuda",
   "language": "python",
   "name": "python3"
  },
  "language_info": {
   "codemirror_mode": {
    "name": "ipython",
    "version": 3
   },
   "file_extension": ".py",
   "mimetype": "text/x-python",
   "name": "python",
   "nbconvert_exporter": "python",
   "pygments_lexer": "ipython3",
   "version": "3.11.10"
  }
 },
 "nbformat": 4,
 "nbformat_minor": 2
}
