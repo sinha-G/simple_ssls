{
 "cells": [
  {
   "cell_type": "markdown",
   "metadata": {},
   "source": [
    "<h1> Setup Environment </h1>\n",
    "Necessary imports and environment variables."
   ]
  },
  {
   "cell_type": "code",
   "execution_count": null,
   "metadata": {},
   "outputs": [],
   "source": [
    "import os\n",
    "import torch\n",
    "import random\n",
    "\n",
    "import matplotlib.pyplot as plt\n",
    "import torchvision.transforms as T\n",
    "\n",
    "from models import CNN, ViT\n",
    "from trainers import SimCLRTrainer, DINOTrainer\n",
    "from datasets import get_mnist_loaders, get_cifar10_loaders, get_imagenet_loaders, get_imagenette_loaders\n",
    "from torch.utils.data import random_split, DataLoader\n",
    "from tqdm.notebook import tqdm\n",
    "\n",
    "\n",
    "os.environ['CUDA_LAUNCH_BLOCKING'] = '1'\n",
    "os.environ['TORCH_USE_CUDA_DSA'] = '1'\n",
    "\n",
    "torch.backends.cudnn.benchmark = False\n",
    "torch.backends.cudnn.deterministic = True\n",
    "\n",
    "print(torch.cuda.is_available())  # Should print True\n",
    "print(torch.cuda.get_device_name(0))  # Should print your GPU name\n"
   ]
  },
  {
   "cell_type": "markdown",
   "metadata": {},
   "source": [
    "<h1> Parameters for Model and Training </h1>\n",
    "Parameters for model and training."
   ]
  },
  {
   "cell_type": "code",
   "execution_count": null,
   "metadata": {},
   "outputs": [],
   "source": [
    "# Model parameters\n",
    "chw = (3, 224, 224)\n",
    "n_patches = 14\n",
    "hidden_d = 512\n",
    "n_heads = 8\n",
    "n_blocks = 4\n",
    "n_classes = 1000\n",
    "\n",
    "# Training parameters\n",
    "n_epochs = 1\n",
    "patience = 100\n",
    "eval_every = 1\n",
    "visualize_every = 1\n",
    "num_workers = 2\n",
    "batch_size = 16"
   ]
  },
  {
   "cell_type": "markdown",
   "metadata": {},
   "source": [
    "<h1> Train Model</h1>\n",
    "Model and trainer initialization, data loading, and training."
   ]
  },
  {
   "cell_type": "code",
   "execution_count": null,
   "metadata": {},
   "outputs": [],
   "source": [
    "model = ViT(\n",
    "    chw=chw, \n",
    "    n_patches=n_patches, \n",
    "    n_blocks=n_blocks, \n",
    "    hidden_d=hidden_d, \n",
    "    n_heads=n_heads, \n",
    "    num_classes=n_classes\n",
    ").to('cuda')\n",
    "\n",
    "trainer = DINOTrainer(model)\n",
    "\n",
    "train_loader, test_loader = get_imagenet_loaders(batch_size=batch_size, num_workers=num_workers)\n"
   ]
  },
  {
   "cell_type": "code",
   "execution_count": null,
   "metadata": {},
   "outputs": [],
   "source": [
    "def show_random_images(dataloader, num_images=5, seed=42):\n",
    "    random.seed(seed)\n",
    "    random_indices = random.sample(range(len(dataloader.dataset)), num_images)\n",
    "    \n",
    "    fig, axes = plt.subplots(1, num_images, figsize=(15, 3))\n",
    "    \n",
    "    denorm = T.Normalize(\n",
    "        mean=[-0.485/0.229, -0.456/0.224, -0.406/0.225],\n",
    "        std=[1/0.229, 1/0.224, 1/0.225]\n",
    "    )\n",
    "    \n",
    "    for idx, sample_idx in enumerate(random_indices):\n",
    "        img, label = dataloader.dataset[sample_idx]\n",
    "        img = denorm(img)\n",
    "        img = T.ToPILImage()(img)\n",
    "        \n",
    "        axes[idx].imshow(img)\n",
    "        axes[idx].axis('off')\n",
    "        axes[idx].set_title(f'Label: {label}')\n",
    "    \n",
    "    plt.tight_layout()\n",
    "    plt.show()\n",
    "\n",
    "# Display sample images\n",
    "show_random_images(test_loader, seed = 69)"
   ]
  },
  {
   "cell_type": "code",
   "execution_count": null,
   "metadata": {},
   "outputs": [],
   "source": [
    "train_history = trainer.finetune(\n",
    "    train_loader=train_loader, \n",
    "    test_loader=test_loader, \n",
    "    epochs=n_epochs, \n",
    "    patience=patience, \n",
    "    evaluate_every = eval_every,\n",
    "    visualize_every = visualize_every\n",
    ")"
   ]
  },
  {
   "cell_type": "markdown",
   "metadata": {},
   "source": [
    "<h1> Visualize Attention Map </h1>"
   ]
  },
  {
   "cell_type": "code",
   "execution_count": null,
   "metadata": {},
   "outputs": [],
   "source": [
    "# Load class labels from file\n",
    "with open('data/imagenet/imagenet1000_clsidx_to_labels.txt', 'r') as f:\n",
    "    class_labels = eval(f.read())\n",
    "\n",
    "random_indices = random.sample(range(len(test_loader.dataset)), 2)\n",
    "\n",
    "for i in random_indices:\n",
    "    # Get the class index and convert to class name\n",
    "    class_idx = test_loader.dataset[i][1]\n",
    "    class_name = class_labels[class_idx]\n",
    "    \n",
    "    # Print both index and class name\n",
    "    print(f\"\\nImage {i} class: {class_name} (index: {class_idx})\")\n",
    "    \n",
    "    # Create a figure for each layer\n",
    "    for layer in range(n_blocks):\n",
    "        fig, axes = plt.subplots(1, min(n_heads, 4), figsize=(20, 5))\n",
    "        if n_heads == 1:\n",
    "            axes = [axes]\n",
    "            \n",
    "        for head in range(min(n_heads, 4)):  # Show up to 4 heads\n",
    "            model.visualize_attention(\n",
    "                images=test_loader.dataset[i][0].unsqueeze(0).to('cuda'),\n",
    "                layer_idx=layer,\n",
    "                head_idx=head,\n",
    "                alpha=0.7,\n",
    "                ax=axes[head]\n",
    "            )\n",
    "        \n",
    "        plt.suptitle(f'Layer {layer} Attention Maps\\nClass: {class_name}', size=16)\n",
    "        plt.tight_layout()\n",
    "        plt.show()"
   ]
  }
 ],
 "metadata": {
  "kernelspec": {
   "display_name": "Python 3",
   "language": "python",
   "name": "python3"
  },
  "language_info": {
   "codemirror_mode": {
    "name": "ipython",
    "version": 3
   },
   "file_extension": ".py",
   "mimetype": "text/x-python",
   "name": "python",
   "nbconvert_exporter": "python",
   "pygments_lexer": "ipython3",
   "version": "3.11.0"
  }
 },
 "nbformat": 4,
 "nbformat_minor": 2
}
