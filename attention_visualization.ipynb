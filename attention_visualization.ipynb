{
 "cells": [
  {
   "cell_type": "markdown",
   "metadata": {},
   "source": [
    "<h1> Imports </h1>"
   ]
  },
  {
   "cell_type": "code",
   "execution_count": 1,
   "metadata": {},
   "outputs": [],
   "source": [
    "import os\n",
    "import torch\n",
    "from models import CNN, ViT\n",
    "from trainers import SimCLRTrainer, DINOTrainer\n",
    "from datasets import get_mnist_loaders, get_cifar10_loaders, get_imagenet_loaders\n",
    "from torch.utils.data import random_split, DataLoader\n",
    "os.environ['CUDA_LAUNCH_BLOCKING'] = '1'"
   ]
  },
  {
   "cell_type": "markdown",
   "metadata": {},
   "source": [
    "<h1> Initialize Model </h1>"
   ]
  },
  {
   "cell_type": "code",
   "execution_count": 2,
   "metadata": {},
   "outputs": [],
   "source": [
    "batch_size = 32\n",
    "n_patches = 8\n",
    "n_blocks = 4\n",
    "n_heads = 6\n",
    "hidden_d = 768\n",
    "\n",
    "model = ViT(\n",
    "        chw = (3, 128, 128),\n",
    "        n_patches = n_patches,\n",
    "        n_blocks = n_blocks,\n",
    "        hidden_d = hidden_d,\n",
    "        n_heads = n_heads,\n",
    "        num_classes = 1000,\n",
    "        dropout = 0.2\n",
    "    ).to('cuda')"
   ]
  },
  {
   "cell_type": "markdown",
   "metadata": {},
   "source": [
    "<h1> Load Data and Train Model</h1>"
   ]
  },
  {
   "cell_type": "code",
   "execution_count": null,
   "metadata": {},
   "outputs": [],
   "source": [
    "train_loader, test_loader = get_imagenet_loaders(batch_size=batch_size)\n",
    "dino_trainer = DINOTrainer(model)\n",
    "\n",
    "dino_history = dino_trainer.finetune(\n",
    "    train_loader=finetune_loader,\n",
    "    test_loader=test_loader,\n",
    "    epochs=20,\n",
    "    lr=0.0001,\n",
    "    patience=10,\n",
    "    evaluate_every=2\n",
    ")"
   ]
  },
  {
   "cell_type": "markdown",
   "metadata": {},
   "source": [
    "<h1> Visualize Attention Map </h1>"
   ]
  },
  {
   "cell_type": "code",
   "execution_count": null,
   "metadata": {},
   "outputs": [],
   "source": [
    "classes = ['airplane', 'automobile', 'bird', 'cat', 'deer', 'dog', 'frog', 'horse', 'ship', 'truck']\n",
    "for i in range(5):\n",
    "    print(f\"Image {i} class: {classes[test_loader.dataset[i][1]]}\")\n",
    "    for layer in range(n_blocks):\n",
    "        for head in range(n_heads):\n",
    "            model.visualize_attention(\n",
    "                images=test_loader.dataset[i][0].unsqueeze(0).to('cuda'),\n",
    "                layer_idx=layer,  # Transformer block\n",
    "                head_idx=head,    # Attention head\n",
    "                # save_path='attention_map.png'\n",
    "            )\n",
    "    "
   ]
  }
 ],
 "metadata": {
  "kernelspec": {
   "display_name": "cuda",
   "language": "python",
   "name": "python3"
  },
  "language_info": {
   "codemirror_mode": {
    "name": "ipython",
    "version": 3
   },
   "file_extension": ".py",
   "mimetype": "text/x-python",
   "name": "python",
   "nbconvert_exporter": "python",
   "pygments_lexer": "ipython3",
   "version": "3.11.10"
  }
 },
 "nbformat": 4,
 "nbformat_minor": 2
}
