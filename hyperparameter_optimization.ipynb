{
 "cells": [
  {
   "cell_type": "markdown",
   "metadata": {},
   "source": [
    "<h1> Libraries & Environment Setup </h1>"
   ]
  },
  {
   "cell_type": "code",
   "execution_count": 1,
   "metadata": {},
   "outputs": [
    {
     "name": "stdout",
     "output_type": "stream",
     "text": [
      "Using device: cuda\n"
     ]
    }
   ],
   "source": [
    "import os  # Environment management\n",
    "import numpy as np  # Numpy\n",
    "import random  # Determinism\n",
    "import torch  # PyTorch\n",
    "import torch.nn as nn  # Neural network module\n",
    "import torch.optim as optim  # Optimizers\n",
    "import matplotlib.pyplot as plt  # Plotting\n",
    "import matplotlib.animation as animation # Animation\n",
    "import warnings  # Silence some sklearn warnings\n",
    "import optuna # Hyperparameter optimization\n",
    "\n",
    "from collections import Counter  # Counting\n",
    "from torchvision import datasets, transforms  # Datasets and transformations\n",
    "from torch.utils.data import DataLoader, random_split\n",
    "from sklearn.cluster import KMeans  # KMeans clustering algorithm\n",
    "from sklearn.model_selection import train_test_split  # Train-test split\n",
    "from sklearn.metrics import confusion_matrix, ConfusionMatrixDisplay  # Confusion matrix\n",
    "from sklearn.manifold import TSNE  # t-SNE\n",
    "from tqdm.notebook import tqdm  # Progress bars\n",
    "\n",
    "from models import CNN  # Neural network class\n",
    "from trainers import KMeansConsistencyTrainer, SimCLRTrainer  # Training function\n",
    "from datasets import get_mnist_loaders, split_dataset  # Dataset functions\n",
    "\n",
    "warnings.filterwarnings(\"ignore\")    # Silence some annoying sklearn warnings\n",
    "os.environ[\"OMP_NUM_THREADS\"] = \"1\"  # Due to sklearn bug\n",
    "\n",
    "# Use GPU if available\n",
    "device = torch.device(\"cuda\" if torch.cuda.is_available() else \"cpu\")\n",
    "print(f\"Using device: {device}\")\n",
    "\n",
    "# Set seeds for determinism\n",
    "def set_seed(seed):\n",
    "    random.seed(seed)\n",
    "    np.random.seed(seed)\n",
    "    torch.manual_seed(seed)\n",
    "    torch.cuda.manual_seed(seed)\n",
    "    torch.cuda.manual_seed_all(seed)\n",
    "    torch.backends.cudnn.deterministic = True\n",
    "    torch.backends.cudnn.benchmark = False"
   ]
  },
  {
   "cell_type": "markdown",
   "metadata": {},
   "source": [
    "<h1> MNIST Data Preparation </h1>"
   ]
  },
  {
   "cell_type": "code",
   "execution_count": 2,
   "metadata": {},
   "outputs": [],
   "source": [
    "# Load MNIST dataset\n",
    "train_loader, test_loader = get_mnist_loaders(batch_size=128)\n",
    "\n",
    "# Split dataset into labeled and unlabeled subsets\n",
    "mnist_train = train_loader.dataset\n",
    "# labeled_data, unlabeled_data = split_dataset(mnist_train, num_labeled=250)\n",
    "\n",
    "# Create data loaders for labeled and unlabeled data\n",
    "# labeled_loader = torch.utils.data.DataLoader(labeled_data, batch_size=128, shuffle=True, num_workers=0)\n",
    "# unlabeled_loader = torch.utils.data.DataLoader(unlabeled_data, batch_size=128, shuffle=True, num_workers=0)"
   ]
  },
  {
   "cell_type": "markdown",
   "metadata": {},
   "source": [
    "<h1> Training Model </h1>"
   ]
  },
  {
   "cell_type": "code",
   "execution_count": 3,
   "metadata": {},
   "outputs": [],
   "source": [
    "# Experiment setup\n",
    "def experiment(values_of_M, epochs=10, evaluate_every=1, lambda_kmeans=0.1, lambda_consistency=0.1, use_consistency=False, use_unlabeled=True, save_dir=\"tsne_images\", output_file=\"tsne_animation.gif\", generate_tsne=True, generate_cm=True):\n",
    "    results = {}\n",
    "    for M in values_of_M:\n",
    "        # Create model instance\n",
    "        model = CNN(use_dropout = True, dropout_rate = 0.3)\n",
    "        trainer = KMeansConsistencyTrainer(model, device=device)\n",
    "\n",
    "        # Split dataset\n",
    "        labeled_data, unlabeled_data = split_dataset(mnist_train, M)\n",
    "        # print_label_distribution(labeled_data, description=f\"Labeled Dataset for M={M}\")\n",
    "        \n",
    "        labeled_loader = torch.utils.data.DataLoader(labeled_data, batch_size=256, shuffle=True, num_workers=0)\n",
    "        unlabeled_loader = torch.utils.data.DataLoader(unlabeled_data, batch_size=256, shuffle=True, num_workers=0) if use_unlabeled else None\n",
    "\n",
    "        # Train and log results\n",
    "        train_accs, test_accs = trainer.train(\n",
    "            labeled_loader=labeled_loader, \n",
    "            unlabeled_loader=unlabeled_loader, \n",
    "            test_loader=test_loader, \n",
    "            epochs=epochs, \n",
    "            evaluate_every=evaluate_every\n",
    "        )\n",
    "        results[M] = (train_accs, test_accs)\n",
    "        # print(f\"Train accuracy for M={M}: {train_accs[-1]:.2f}%, Test accuracy for M={M}: {test_accs[-1]:.2f}%\")\n",
    "\n",
    "\n",
    "        # Evaluate and compute confusion matrix\n",
    "        test_accuracy, preds, labels = trainer.evaluate(test_loader)\n",
    "        if generate_cm:\n",
    "            cm = confusion_matrix(labels, preds)\n",
    "            disp = ConfusionMatrixDisplay(confusion_matrix=cm, display_labels=range(10))\n",
    "            disp.plot(cmap=\"viridis\")\n",
    "            plt.title(f\"Confusion Matrix for M={M}\")\n",
    "            plt.show()\n",
    "\n",
    "        if generate_tsne:\n",
    "            # Plot t-SNE visualization\n",
    "            plot_tsne(model, M, test_loader)\n",
    "\n",
    "    if generate_tsne:\n",
    "        create_animation(save_dir, output_file)\n",
    "    return results\n",
    "\n",
    "# Plot training curves\n",
    "def plot_training_curves(results, values_of_M):\n",
    "    plt.figure(figsize=(12, 6))\n",
    "    \n",
    "    # Plot test accuracy for each M\n",
    "    for M in values_of_M:\n",
    "        train_accs, test_accs = results[M]\n",
    "        plt.plot(test_accs, label=f\"M={M} (Test Accuracy)\")\n",
    "\n",
    "    plt.title(\"Test Accuracy vs. Epochs for Different Values of M\")\n",
    "    plt.xlabel(\"Epoch\")\n",
    "    plt.ylabel(\"Test Accuracy (%)\")\n",
    "    plt.ylim(0, 100)\n",
    "    plt.legend()\n",
    "    plt.grid()\n",
    "    plt.show()\n",
    "\n",
    "# Plot t-SNE visualization\n",
    "def plot_tsne(model, M, data_loader, save_dir=\"tsne_images\"):\n",
    "    if not os.path.exists(save_dir):\n",
    "        os.makedirs(save_dir)\n",
    "    \n",
    "    model.eval()\n",
    "    features_list = []\n",
    "    labels_list = []\n",
    "    with torch.no_grad():\n",
    "        for images, labels in data_loader:\n",
    "            images, labels = images.to(device), labels.to(device)\n",
    "            _, features = model(images)\n",
    "            features_list.append(features.cpu().numpy())\n",
    "            labels_list.append(labels.cpu().numpy())\n",
    "    features = np.concatenate(features_list)\n",
    "    labels = np.concatenate(labels_list)\n",
    "    tsne = TSNE(n_components=2, random_state=0)\n",
    "    tsne_results = tsne.fit_transform(features)\n",
    "    plt.figure(figsize=(6, 6))\n",
    "    scatter = plt.scatter(tsne_results[:, 0], tsne_results[:, 1], c=labels, cmap='viridis', alpha=0.5)\n",
    "    plt.colorbar(scatter)\n",
    "    plt.title(f't-SNE Visualization for M={M}')\n",
    "    plt.savefig(os.path.join(save_dir, f'tsne_M_{M}.png'))\n",
    "    plt.show()  # Display the plot in the output\n",
    "    plt.close()\n",
    "\n",
    "def create_animation(save_dir=\"tsne_images\", output_file=\"tsne_animation.gif\"):\n",
    "    if not os.path.exists(save_dir):\n",
    "        os.makedirs(save_dir)\n",
    "    \n",
    "    fig = plt.figure(figsize=(6, 6))\n",
    "    images = []\n",
    "    \n",
    "    # Extract numeric values of M from filenames and sort them\n",
    "    file_names = sorted(\n",
    "        [f for f in os.listdir(save_dir) if f.startswith('tsne_M_') and f.endswith('.png')],\n",
    "        key=lambda x: int(x.split('_')[2].split('.')[0])\n",
    "    )\n",
    "    \n",
    "    for file_name in file_names:\n",
    "        img = plt.imread(os.path.join(save_dir, file_name))\n",
    "        images.append([plt.imshow(img, animated=True)])\n",
    "    \n",
    "    ani = animation.ArtistAnimation(fig, images, interval=500, blit=True, repeat_delay=1000)\n",
    "    ani.save(os.path.join(save_dir, output_file), writer='imagemagick')\n",
    "    plt.close()\n"
   ]
  },
  {
   "cell_type": "markdown",
   "metadata": {},
   "source": [
    "<h1> Hyperparameter Optimization with Optuna </h1>"
   ]
  },
  {
   "cell_type": "code",
   "execution_count": 4,
   "metadata": {},
   "outputs": [],
   "source": [
    "def objective(trial):\n",
    "    # Define the hyperparameter search space for learning rates\n",
    "    lr_simclr = trial.suggest_loguniform('lr_simclr', 1e-4, 1e-2)\n",
    "    lr_finetune = trial.suggest_loguniform('lr_finetune', 1e-4, 1e-2)\n",
    "    \n",
    "    # Use a fixed value of M for the labeled dataset size\n",
    "    M = 100  # You can adjust this value\n",
    "    \n",
    "    # Create model and trainer\n",
    "    model = CNN(use_dropout=True, dropout_rate=0.3, use_projection_head=True)\n",
    "    model = model.to(device)\n",
    "    trainer = SimCLRTrainer(model, lr_simclr=lr_simclr, lr_finetune=lr_finetune)\n",
    "\n",
    "    # Split dataset for SimCLR pretraining and supervised fine-tuning \n",
    "    split = [len(mnist_train) - M, M]\n",
    "    simclr_dataset, finetune_dataset = random_split(mnist_train, split)\n",
    "    \n",
    "    # Create data loaders\n",
    "    simclr_loader = DataLoader(simclr_dataset, batch_size=256, shuffle=True, num_workers=0)\n",
    "    finetune_loader = DataLoader(finetune_dataset, batch_size=128, shuffle=True, num_workers=0)\n",
    "    \n",
    "    try:\n",
    "        # Pretrain with SimCLR\n",
    "        trainer.train(\n",
    "            train_loader=simclr_loader,\n",
    "            epochs=10  # You can adjust epochs\n",
    "        )\n",
    "\n",
    "        # Fine-tune on labeled data\n",
    "        _, test_accs = trainer.fine_tune(\n",
    "            train_loader=finetune_loader,\n",
    "            test_loader=test_loader,\n",
    "            epochs=10,  # You can adjust epochs\n",
    "            evaluate_every=2\n",
    "        )\n",
    "        \n",
    "        return max(test_accs)  # Return best test accuracy\n",
    "        \n",
    "    except Exception as e:\n",
    "        print(f\"Trial failed: {e}\")\n",
    "        return float('-inf')  # Return worst possible score on failure\n"
   ]
  },
  {
   "cell_type": "code",
   "execution_count": null,
   "metadata": {},
   "outputs": [
    {
     "name": "stderr",
     "output_type": "stream",
     "text": [
      "[I 2025-01-02 20:10:58,681] A new study created in memory with name: Optimize_SimCLR_Learning_Rates\n"
     ]
    },
    {
     "name": "stdout",
     "output_type": "stream",
     "text": [
      "[2025-01-02 20:11:59] Epoch [1/10], Loss: 4.6124\n",
      "[2025-01-02 20:13:04] Epoch [2/10], Loss: 4.4452\n",
      "[2025-01-02 20:14:17] Epoch [3/10], Loss: 4.4229\n",
      "[2025-01-02 20:15:17] Epoch [4/10], Loss: 4.4124\n",
      "[2025-01-02 20:16:14] Epoch [5/10], Loss: 4.4037\n",
      "[2025-01-02 20:17:12] Epoch [6/10], Loss: 4.3965\n",
      "[2025-01-02 20:18:12] Epoch [7/10], Loss: 4.3906\n",
      "[2025-01-02 20:19:20] Epoch [8/10], Loss: 4.3851\n",
      "[2025-01-02 20:20:33] Epoch [9/10], Loss: 4.3819\n",
      "[2025-01-02 20:21:48] Epoch [10/10], Loss: 4.3799\n",
      "[2025-01-02 20:21:51] Accuracy: 19.14%\n",
      "2025-01-02 20:21:49 Epoch [1/10], Loss: 2.7760, Train Accuracy: 9.00%, Test Accuracy: 19.14%\n",
      "[2025-01-02 20:21:53] Accuracy: 36.31%\n",
      "2025-01-02 20:21:51 Epoch [2/10], Loss: 2.1441, Train Accuracy: 20.00%, Test Accuracy: 36.31%\n",
      "2025-01-02 20:21:53 Epoch [3/10], Loss: 1.8470, Train Accuracy: 37.00%, Test Accuracy: 36.31%\n",
      "[2025-01-02 20:21:55] Accuracy: 53.16%\n",
      "2025-01-02 20:21:53 Epoch [4/10], Loss: 1.6225, Train Accuracy: 51.00%, Test Accuracy: 53.16%\n",
      "2025-01-02 20:21:55 Epoch [5/10], Loss: 1.4519, Train Accuracy: 59.00%, Test Accuracy: 53.16%\n",
      "[2025-01-02 20:21:57] Accuracy: 63.34%\n",
      "2025-01-02 20:21:55 Epoch [6/10], Loss: 1.2352, Train Accuracy: 65.00%, Test Accuracy: 63.34%\n",
      "2025-01-02 20:21:57 Epoch [7/10], Loss: 1.0906, Train Accuracy: 68.00%, Test Accuracy: 63.34%\n",
      "[2025-01-02 20:21:59] Accuracy: 67.54%\n",
      "2025-01-02 20:21:57 Epoch [8/10], Loss: 0.8442, Train Accuracy: 77.00%, Test Accuracy: 67.54%\n",
      "2025-01-02 20:21:59 Epoch [9/10], Loss: 0.6907, Train Accuracy: 77.00%, Test Accuracy: 67.54%\n"
     ]
    },
    {
     "name": "stderr",
     "output_type": "stream",
     "text": [
      "[I 2025-01-02 20:22:01,377] Trial 0 finished with value: 70.02 and parameters: {'lr_simclr': 0.0011709754734261458, 'lr_finetune': 0.002138136621969696}. Best is trial 0 with value: 70.02.\n"
     ]
    },
    {
     "name": "stdout",
     "output_type": "stream",
     "text": [
      "[2025-01-02 20:22:01] Accuracy: 70.02%\n",
      "2025-01-02 20:21:59 Epoch [10/10], Loss: 0.5964, Train Accuracy: 77.00%, Test Accuracy: 70.02%\n",
      "[2025-01-02 20:23:14] Epoch [1/10], Loss: 4.5872\n",
      "[2025-01-02 20:24:29] Epoch [2/10], Loss: 4.4551\n",
      "[2025-01-02 20:25:37] Epoch [3/10], Loss: 4.4311\n",
      "[2025-01-02 20:26:44] Epoch [4/10], Loss: 4.4186\n",
      "[2025-01-02 20:27:49] Epoch [5/10], Loss: 4.4101\n",
      "[2025-01-02 20:29:05] Epoch [6/10], Loss: 4.4040\n",
      "[2025-01-02 20:30:20] Epoch [7/10], Loss: 4.3993\n",
      "[2025-01-02 20:31:33] Epoch [8/10], Loss: 4.3952\n",
      "[2025-01-02 20:32:46] Epoch [9/10], Loss: 4.3927\n",
      "[2025-01-02 20:33:55] Epoch [10/10], Loss: 4.3912\n",
      "[2025-01-02 20:33:57] Accuracy: 41.80%\n",
      "2025-01-02 20:33:55 Epoch [1/10], Loss: 2.5103, Train Accuracy: 12.00%, Test Accuracy: 41.80%\n",
      "[2025-01-02 20:33:59] Accuracy: 48.12%\n",
      "2025-01-02 20:33:57 Epoch [2/10], Loss: 1.9004, Train Accuracy: 54.00%, Test Accuracy: 48.12%\n",
      "2025-01-02 20:33:59 Epoch [3/10], Loss: 1.4718, Train Accuracy: 65.00%, Test Accuracy: 48.12%\n",
      "[2025-01-02 20:34:01] Accuracy: 66.25%\n",
      "2025-01-02 20:33:59 Epoch [4/10], Loss: 1.0848, Train Accuracy: 72.00%, Test Accuracy: 66.25%\n",
      "2025-01-02 20:34:01 Epoch [5/10], Loss: 0.7253, Train Accuracy: 81.00%, Test Accuracy: 66.25%\n",
      "[2025-01-02 20:34:03] Accuracy: 68.41%\n",
      "2025-01-02 20:34:01 Epoch [6/10], Loss: 0.4613, Train Accuracy: 84.00%, Test Accuracy: 68.41%\n",
      "2025-01-02 20:34:03 Epoch [7/10], Loss: 0.3910, Train Accuracy: 90.00%, Test Accuracy: 68.41%\n",
      "[2025-01-02 20:34:05] Accuracy: 78.72%\n",
      "2025-01-02 20:34:03 Epoch [8/10], Loss: 0.2143, Train Accuracy: 93.00%, Test Accuracy: 78.72%\n",
      "2025-01-02 20:34:05 Epoch [9/10], Loss: 0.1776, Train Accuracy: 95.00%, Test Accuracy: 78.72%\n"
     ]
    },
    {
     "name": "stderr",
     "output_type": "stream",
     "text": [
      "[I 2025-01-02 20:34:07,652] Trial 1 finished with value: 81.27 and parameters: {'lr_simclr': 0.000936594021289934, 'lr_finetune': 0.006215873865120272}. Best is trial 1 with value: 81.27.\n"
     ]
    },
    {
     "name": "stdout",
     "output_type": "stream",
     "text": [
      "[2025-01-02 20:34:07] Accuracy: 81.27%\n",
      "2025-01-02 20:34:05 Epoch [10/10], Loss: 0.0994, Train Accuracy: 96.00%, Test Accuracy: 81.27%\n",
      "[2025-01-02 20:35:21] Epoch [1/10], Loss: 4.8530\n",
      "[2025-01-02 20:36:37] Epoch [2/10], Loss: 4.4548\n",
      "[2025-01-02 20:37:41] Epoch [3/10], Loss: 4.4342\n",
      "[2025-01-02 20:38:51] Epoch [4/10], Loss: 4.4255\n",
      "[2025-01-02 20:40:10] Epoch [5/10], Loss: 4.4228\n",
      "[2025-01-02 20:41:13] Epoch [6/10], Loss: 4.4202\n",
      "[2025-01-02 20:42:30] Epoch [7/10], Loss: 4.4177\n",
      "[2025-01-02 20:43:46] Epoch [8/10], Loss: 4.4152\n",
      "[2025-01-02 20:44:52] Epoch [9/10], Loss: 4.4124\n",
      "[2025-01-02 20:46:04] Epoch [10/10], Loss: 4.4116\n",
      "[2025-01-02 20:46:06] Accuracy: 12.96%\n",
      "2025-01-02 20:46:04 Epoch [1/10], Loss: 56.3091, Train Accuracy: 16.00%, Test Accuracy: 12.96%\n",
      "[2025-01-02 20:46:08] Accuracy: 14.75%\n",
      "2025-01-02 20:46:06 Epoch [2/10], Loss: 46.3919, Train Accuracy: 12.00%, Test Accuracy: 14.75%\n",
      "2025-01-02 20:46:08 Epoch [3/10], Loss: 37.5490, Train Accuracy: 12.00%, Test Accuracy: 14.75%\n",
      "[2025-01-02 20:46:10] Accuracy: 19.38%\n",
      "2025-01-02 20:46:08 Epoch [4/10], Loss: 37.1140, Train Accuracy: 13.00%, Test Accuracy: 19.38%\n",
      "2025-01-02 20:46:10 Epoch [5/10], Loss: 33.1827, Train Accuracy: 16.00%, Test Accuracy: 19.38%\n",
      "[2025-01-02 20:46:12] Accuracy: 25.60%\n",
      "2025-01-02 20:46:10 Epoch [6/10], Loss: 34.3466, Train Accuracy: 21.00%, Test Accuracy: 25.60%\n",
      "2025-01-02 20:46:12 Epoch [7/10], Loss: 31.3357, Train Accuracy: 21.00%, Test Accuracy: 25.60%\n",
      "[2025-01-02 20:46:14] Accuracy: 29.84%\n",
      "2025-01-02 20:46:12 Epoch [8/10], Loss: 31.3430, Train Accuracy: 17.00%, Test Accuracy: 29.84%\n",
      "2025-01-02 20:46:14 Epoch [9/10], Loss: 27.1408, Train Accuracy: 19.00%, Test Accuracy: 29.84%\n"
     ]
    },
    {
     "name": "stderr",
     "output_type": "stream",
     "text": [
      "[I 2025-01-02 20:46:15,906] Trial 2 finished with value: 34.69 and parameters: {'lr_simclr': 0.006004738011676907, 'lr_finetune': 0.0008117562146426003}. Best is trial 1 with value: 81.27.\n"
     ]
    },
    {
     "name": "stdout",
     "output_type": "stream",
     "text": [
      "[2025-01-02 20:46:15] Accuracy: 34.69%\n",
      "2025-01-02 20:46:14 Epoch [10/10], Loss: 21.8241, Train Accuracy: 24.00%, Test Accuracy: 34.69%\n",
      "[2025-01-02 20:47:22] Epoch [1/10], Loss: 4.5769\n",
      "[2025-01-02 20:48:37] Epoch [2/10], Loss: 4.4344\n",
      "[2025-01-02 20:49:43] Epoch [3/10], Loss: 4.4181\n",
      "[2025-01-02 20:50:52] Epoch [4/10], Loss: 4.4099\n",
      "[2025-01-02 20:51:57] Epoch [5/10], Loss: 4.4045\n",
      "[2025-01-02 20:53:01] Epoch [6/10], Loss: 4.4004\n",
      "[2025-01-02 20:54:07] Epoch [7/10], Loss: 4.3957\n",
      "[2025-01-02 20:55:13] Epoch [8/10], Loss: 4.3921\n",
      "[2025-01-02 20:56:21] Epoch [9/10], Loss: 4.3894\n",
      "[2025-01-02 20:57:25] Epoch [10/10], Loss: 4.3876\n",
      "[2025-01-02 20:57:27] Accuracy: 15.42%\n",
      "2025-01-02 20:57:25 Epoch [1/10], Loss: 87.2259, Train Accuracy: 7.00%, Test Accuracy: 15.42%\n",
      "[2025-01-02 20:57:29] Accuracy: 18.42%\n",
      "2025-01-02 20:57:27 Epoch [2/10], Loss: 65.7237, Train Accuracy: 13.00%, Test Accuracy: 18.42%\n",
      "2025-01-02 20:57:29 Epoch [3/10], Loss: 58.6787, Train Accuracy: 18.00%, Test Accuracy: 18.42%\n",
      "[2025-01-02 20:57:31] Accuracy: 39.49%\n",
      "2025-01-02 20:57:29 Epoch [4/10], Loss: 34.6653, Train Accuracy: 28.00%, Test Accuracy: 39.49%\n",
      "2025-01-02 20:57:31 Epoch [5/10], Loss: 24.0843, Train Accuracy: 35.00%, Test Accuracy: 39.49%\n",
      "[2025-01-02 20:57:32] Accuracy: 41.94%\n",
      "2025-01-02 20:57:31 Epoch [6/10], Loss: 15.9048, Train Accuracy: 34.00%, Test Accuracy: 41.94%\n",
      "2025-01-02 20:57:32 Epoch [7/10], Loss: 13.4248, Train Accuracy: 39.00%, Test Accuracy: 41.94%\n",
      "[2025-01-02 20:57:34] Accuracy: 45.36%\n",
      "2025-01-02 20:57:32 Epoch [8/10], Loss: 12.7423, Train Accuracy: 40.00%, Test Accuracy: 45.36%\n",
      "2025-01-02 20:57:34 Epoch [9/10], Loss: 11.5271, Train Accuracy: 41.00%, Test Accuracy: 45.36%\n"
     ]
    },
    {
     "name": "stderr",
     "output_type": "stream",
     "text": [
      "[I 2025-01-02 20:57:36,356] Trial 3 finished with value: 51.1 and parameters: {'lr_simclr': 0.007803473564420832, 'lr_finetune': 0.004115309137999566}. Best is trial 1 with value: 81.27.\n"
     ]
    },
    {
     "name": "stdout",
     "output_type": "stream",
     "text": [
      "[2025-01-02 20:57:36] Accuracy: 51.10%\n",
      "2025-01-02 20:57:34 Epoch [10/10], Loss: 10.4941, Train Accuracy: 44.00%, Test Accuracy: 51.10%\n",
      "[2025-01-02 20:58:44] Epoch [1/10], Loss: 4.6419\n",
      "[2025-01-02 20:59:47] Epoch [2/10], Loss: 4.4990\n",
      "[2025-01-02 21:00:56] Epoch [3/10], Loss: 4.4788\n",
      "[2025-01-02 21:02:09] Epoch [4/10], Loss: 4.4684\n",
      "[2025-01-02 21:03:11] Epoch [5/10], Loss: 4.4608\n",
      "[2025-01-02 21:04:09] Epoch [6/10], Loss: 4.4541\n",
      "[2025-01-02 21:05:10] Epoch [7/10], Loss: 4.4500\n",
      "[2025-01-02 21:06:14] Epoch [8/10], Loss: 4.4471\n",
      "[2025-01-02 21:07:18] Epoch [9/10], Loss: 4.4449\n",
      "[2025-01-02 21:08:23] Epoch [10/10], Loss: 4.4438\n",
      "[2025-01-02 21:08:24] Accuracy: 21.97%\n",
      "2025-01-02 21:08:23 Epoch [1/10], Loss: 2.3046, Train Accuracy: 18.00%, Test Accuracy: 21.97%\n",
      "[2025-01-02 21:08:26] Accuracy: 25.73%\n",
      "2025-01-02 21:08:24 Epoch [2/10], Loss: 2.2203, Train Accuracy: 22.00%, Test Accuracy: 25.73%\n",
      "2025-01-02 21:08:26 Epoch [3/10], Loss: 2.1527, Train Accuracy: 31.00%, Test Accuracy: 25.73%\n",
      "[2025-01-02 21:08:27] Accuracy: 31.72%\n",
      "2025-01-02 21:08:26 Epoch [4/10], Loss: 2.0193, Train Accuracy: 41.00%, Test Accuracy: 31.72%\n",
      "2025-01-02 21:08:27 Epoch [5/10], Loss: 1.9527, Train Accuracy: 42.00%, Test Accuracy: 31.72%\n",
      "[2025-01-02 21:08:29] Accuracy: 36.01%\n",
      "2025-01-02 21:08:27 Epoch [6/10], Loss: 1.9050, Train Accuracy: 47.00%, Test Accuracy: 36.01%\n",
      "2025-01-02 21:08:29 Epoch [7/10], Loss: 1.8068, Train Accuracy: 42.00%, Test Accuracy: 36.01%\n",
      "[2025-01-02 21:08:31] Accuracy: 40.52%\n",
      "2025-01-02 21:08:29 Epoch [8/10], Loss: 1.7460, Train Accuracy: 52.00%, Test Accuracy: 40.52%\n",
      "2025-01-02 21:08:31 Epoch [9/10], Loss: 1.6698, Train Accuracy: 59.00%, Test Accuracy: 40.52%\n"
     ]
    },
    {
     "name": "stderr",
     "output_type": "stream",
     "text": [
      "[I 2025-01-02 21:08:33,083] Trial 4 finished with value: 46.02 and parameters: {'lr_simclr': 0.0002726963795395793, 'lr_finetune': 0.000249577302603373}. Best is trial 1 with value: 81.27.\n"
     ]
    },
    {
     "name": "stdout",
     "output_type": "stream",
     "text": [
      "[2025-01-02 21:08:33] Accuracy: 46.02%\n",
      "2025-01-02 21:08:31 Epoch [10/10], Loss: 1.5948, Train Accuracy: 60.00%, Test Accuracy: 46.02%\n",
      "[2025-01-02 21:09:36] Epoch [1/10], Loss: 4.6343\n",
      "[2025-01-02 21:10:40] Epoch [2/10], Loss: 4.4894\n",
      "[2025-01-02 21:11:43] Epoch [3/10], Loss: 4.4653\n",
      "[2025-01-02 21:12:49] Epoch [4/10], Loss: 4.4514\n",
      "[2025-01-02 21:13:48] Epoch [5/10], Loss: 4.4417\n",
      "[2025-01-02 21:14:52] Epoch [6/10], Loss: 4.4334\n",
      "[2025-01-02 21:15:55] Epoch [7/10], Loss: 4.4291\n",
      "[2025-01-02 21:17:00] Epoch [8/10], Loss: 4.4251\n",
      "[2025-01-02 21:18:05] Epoch [9/10], Loss: 4.4235\n",
      "[2025-01-02 21:19:07] Epoch [10/10], Loss: 4.4221\n",
      "[2025-01-02 21:19:09] Accuracy: 12.98%\n",
      "2025-01-02 21:19:07 Epoch [1/10], Loss: 2.3038, Train Accuracy: 16.00%, Test Accuracy: 12.98%\n",
      "[2025-01-02 21:19:10] Accuracy: 15.19%\n",
      "2025-01-02 21:19:09 Epoch [2/10], Loss: 2.3197, Train Accuracy: 12.00%, Test Accuracy: 15.19%\n",
      "2025-01-02 21:19:10 Epoch [3/10], Loss: 2.2302, Train Accuracy: 16.00%, Test Accuracy: 15.19%\n",
      "[2025-01-02 21:19:12] Accuracy: 21.51%\n",
      "2025-01-02 21:19:10 Epoch [4/10], Loss: 2.1953, Train Accuracy: 23.00%, Test Accuracy: 21.51%\n",
      "2025-01-02 21:19:12 Epoch [5/10], Loss: 2.1932, Train Accuracy: 20.00%, Test Accuracy: 21.51%\n",
      "[2025-01-02 21:19:14] Accuracy: 28.90%\n",
      "2025-01-02 21:19:12 Epoch [6/10], Loss: 2.1401, Train Accuracy: 26.00%, Test Accuracy: 28.90%\n",
      "2025-01-02 21:19:14 Epoch [7/10], Loss: 2.1240, Train Accuracy: 25.00%, Test Accuracy: 28.90%\n",
      "[2025-01-02 21:19:16] Accuracy: 34.44%\n",
      "2025-01-02 21:19:14 Epoch [8/10], Loss: 2.0548, Train Accuracy: 31.00%, Test Accuracy: 34.44%\n",
      "2025-01-02 21:19:16 Epoch [9/10], Loss: 2.0402, Train Accuracy: 36.00%, Test Accuracy: 34.44%\n"
     ]
    },
    {
     "name": "stderr",
     "output_type": "stream",
     "text": [
      "[I 2025-01-02 21:19:17,998] Trial 5 finished with value: 37.73 and parameters: {'lr_simclr': 0.0003897139067670672, 'lr_finetune': 0.00014515449358444755}. Best is trial 1 with value: 81.27.\n"
     ]
    },
    {
     "name": "stdout",
     "output_type": "stream",
     "text": [
      "[2025-01-02 21:19:17] Accuracy: 37.73%\n",
      "2025-01-02 21:19:16 Epoch [10/10], Loss: 2.0046, Train Accuracy: 40.00%, Test Accuracy: 37.73%\n",
      "[2025-01-02 21:20:18] Epoch [1/10], Loss: 4.5986\n",
      "[2025-01-02 21:21:19] Epoch [2/10], Loss: 4.4208\n",
      "[2025-01-02 21:22:20] Epoch [3/10], Loss: 4.4053\n",
      "[2025-01-02 21:23:22] Epoch [4/10], Loss: 4.3957\n",
      "[2025-01-02 21:24:23] Epoch [5/10], Loss: 4.3887\n",
      "[2025-01-02 21:25:27] Epoch [6/10], Loss: 4.3830\n",
      "[2025-01-02 21:26:29] Epoch [7/10], Loss: 4.3779\n",
      "[2025-01-02 21:27:31] Epoch [8/10], Loss: 4.3744\n",
      "[2025-01-02 21:28:33] Epoch [9/10], Loss: 4.3719\n",
      "[2025-01-02 21:29:35] Epoch [10/10], Loss: 4.3706\n",
      "[2025-01-02 21:29:37] Accuracy: 31.56%\n",
      "2025-01-02 21:29:35 Epoch [1/10], Loss: 3.1810, Train Accuracy: 15.00%, Test Accuracy: 31.56%\n",
      "[2025-01-02 21:29:39] Accuracy: 45.83%\n",
      "2025-01-02 21:29:37 Epoch [2/10], Loss: 2.0282, Train Accuracy: 30.00%, Test Accuracy: 45.83%\n",
      "2025-01-02 21:29:39 Epoch [3/10], Loss: 1.6674, Train Accuracy: 47.00%, Test Accuracy: 45.83%\n",
      "[2025-01-02 21:29:41] Accuracy: 57.78%\n",
      "2025-01-02 21:29:39 Epoch [4/10], Loss: 1.4806, Train Accuracy: 59.00%, Test Accuracy: 57.78%\n",
      "2025-01-02 21:29:41 Epoch [5/10], Loss: 1.2185, Train Accuracy: 66.00%, Test Accuracy: 57.78%\n",
      "[2025-01-02 21:29:42] Accuracy: 65.66%\n",
      "2025-01-02 21:29:41 Epoch [6/10], Loss: 1.0382, Train Accuracy: 73.00%, Test Accuracy: 65.66%\n",
      "2025-01-02 21:29:42 Epoch [7/10], Loss: 0.8481, Train Accuracy: 72.00%, Test Accuracy: 65.66%\n",
      "[2025-01-02 21:29:44] Accuracy: 71.85%\n",
      "2025-01-02 21:29:42 Epoch [8/10], Loss: 0.6449, Train Accuracy: 81.00%, Test Accuracy: 71.85%\n",
      "2025-01-02 21:29:44 Epoch [9/10], Loss: 0.6113, Train Accuracy: 81.00%, Test Accuracy: 71.85%\n"
     ]
    },
    {
     "name": "stderr",
     "output_type": "stream",
     "text": [
      "[I 2025-01-02 21:29:46,288] Trial 6 finished with value: 72.33 and parameters: {'lr_simclr': 0.0026652084785484887, 'lr_finetune': 0.0032281361151224783}. Best is trial 1 with value: 81.27.\n"
     ]
    },
    {
     "name": "stdout",
     "output_type": "stream",
     "text": [
      "[2025-01-02 21:29:46] Accuracy: 72.33%\n",
      "2025-01-02 21:29:44 Epoch [10/10], Loss: 0.4944, Train Accuracy: 81.00%, Test Accuracy: 72.33%\n",
      "[2025-01-02 21:30:47] Epoch [1/10], Loss: 4.6024\n",
      "[2025-01-02 21:31:48] Epoch [2/10], Loss: 4.4732\n",
      "[2025-01-02 21:32:52] Epoch [3/10], Loss: 4.4492\n",
      "[2025-01-02 21:33:53] Epoch [4/10], Loss: 4.4330\n",
      "[2025-01-02 21:34:55] Epoch [5/10], Loss: 4.4220\n",
      "[2025-01-02 21:35:55] Epoch [6/10], Loss: 4.4150\n",
      "[2025-01-02 21:36:57] Epoch [7/10], Loss: 4.4099\n",
      "[2025-01-02 21:37:58] Epoch [8/10], Loss: 4.4062\n",
      "[2025-01-02 21:39:00] Epoch [9/10], Loss: 4.4040\n",
      "[2025-01-02 21:40:01] Epoch [10/10], Loss: 4.4028\n",
      "[2025-01-02 21:40:03] Accuracy: 5.06%\n",
      "2025-01-02 21:40:01 Epoch [1/10], Loss: 2.4784, Train Accuracy: 7.00%, Test Accuracy: 5.06%\n",
      "[2025-01-02 21:40:04] Accuracy: 6.03%\n",
      "2025-01-02 21:40:03 Epoch [2/10], Loss: 2.4046, Train Accuracy: 10.00%, Test Accuracy: 6.03%\n",
      "2025-01-02 21:40:04 Epoch [3/10], Loss: 2.3617, Train Accuracy: 10.00%, Test Accuracy: 6.03%\n",
      "[2025-01-02 21:40:06] Accuracy: 10.86%\n",
      "2025-01-02 21:40:04 Epoch [4/10], Loss: 2.3688, Train Accuracy: 10.00%, Test Accuracy: 10.86%\n",
      "2025-01-02 21:40:06 Epoch [5/10], Loss: 2.3157, Train Accuracy: 11.00%, Test Accuracy: 10.86%\n",
      "[2025-01-02 21:40:08] Accuracy: 17.04%\n",
      "2025-01-02 21:40:06 Epoch [6/10], Loss: 2.2198, Train Accuracy: 20.00%, Test Accuracy: 17.04%\n",
      "2025-01-02 21:40:08 Epoch [7/10], Loss: 2.1681, Train Accuracy: 22.00%, Test Accuracy: 17.04%\n",
      "[2025-01-02 21:40:09] Accuracy: 22.34%\n",
      "2025-01-02 21:40:08 Epoch [8/10], Loss: 2.0768, Train Accuracy: 24.00%, Test Accuracy: 22.34%\n",
      "2025-01-02 21:40:09 Epoch [9/10], Loss: 2.0839, Train Accuracy: 30.00%, Test Accuracy: 22.34%\n"
     ]
    },
    {
     "name": "stderr",
     "output_type": "stream",
     "text": [
      "[I 2025-01-02 21:40:11,410] Trial 7 finished with value: 26.81 and parameters: {'lr_simclr': 0.0005857129421849129, 'lr_finetune': 0.0001616738018181466}. Best is trial 1 with value: 81.27.\n"
     ]
    },
    {
     "name": "stdout",
     "output_type": "stream",
     "text": [
      "[2025-01-02 21:40:11] Accuracy: 26.81%\n",
      "2025-01-02 21:40:09 Epoch [10/10], Loss: 2.0693, Train Accuracy: 30.00%, Test Accuracy: 26.81%\n",
      "[2025-01-02 21:41:12] Epoch [1/10], Loss: 4.5771\n",
      "[2025-01-02 21:42:14] Epoch [2/10], Loss: 4.4325\n",
      "[2025-01-02 21:43:16] Epoch [3/10], Loss: 4.4114\n",
      "[2025-01-02 21:44:16] Epoch [4/10], Loss: 4.3977\n",
      "[2025-01-02 21:45:16] Epoch [5/10], Loss: 4.3888\n",
      "[2025-01-02 21:46:19] Epoch [6/10], Loss: 4.3835\n",
      "[2025-01-02 21:47:22] Epoch [7/10], Loss: 4.3794\n",
      "[2025-01-02 21:48:24] Epoch [8/10], Loss: 4.3763\n",
      "[2025-01-02 21:49:26] Epoch [9/10], Loss: 4.3747\n",
      "[2025-01-02 21:50:27] Epoch [10/10], Loss: 4.3729\n",
      "[2025-01-02 21:50:28] Accuracy: 16.45%\n",
      "2025-01-02 21:50:27 Epoch [1/10], Loss: 3.5480, Train Accuracy: 8.00%, Test Accuracy: 16.45%\n",
      "[2025-01-02 21:50:30] Accuracy: 34.81%\n",
      "2025-01-02 21:50:28 Epoch [2/10], Loss: 2.5459, Train Accuracy: 16.00%, Test Accuracy: 34.81%\n",
      "2025-01-02 21:50:30 Epoch [3/10], Loss: 2.1594, Train Accuracy: 28.00%, Test Accuracy: 34.81%\n",
      "[2025-01-02 21:50:32] Accuracy: 50.95%\n",
      "2025-01-02 21:50:30 Epoch [4/10], Loss: 1.7790, Train Accuracy: 45.00%, Test Accuracy: 50.95%\n",
      "2025-01-02 21:50:32 Epoch [5/10], Loss: 1.6465, Train Accuracy: 52.00%, Test Accuracy: 50.95%\n",
      "[2025-01-02 21:50:33] Accuracy: 58.21%\n",
      "2025-01-02 21:50:32 Epoch [6/10], Loss: 1.5805, Train Accuracy: 56.00%, Test Accuracy: 58.21%\n",
      "2025-01-02 21:50:34 Epoch [7/10], Loss: 1.4418, Train Accuracy: 63.00%, Test Accuracy: 58.21%\n",
      "[2025-01-02 21:50:35] Accuracy: 62.13%\n",
      "2025-01-02 21:50:34 Epoch [8/10], Loss: 1.2841, Train Accuracy: 69.00%, Test Accuracy: 62.13%\n",
      "2025-01-02 21:50:35 Epoch [9/10], Loss: 1.1295, Train Accuracy: 73.00%, Test Accuracy: 62.13%\n"
     ]
    },
    {
     "name": "stderr",
     "output_type": "stream",
     "text": [
      "[I 2025-01-02 21:50:37,423] Trial 8 finished with value: 65.96 and parameters: {'lr_simclr': 0.0015720071707426228, 'lr_finetune': 0.0015135288426203896}. Best is trial 1 with value: 81.27.\n"
     ]
    },
    {
     "name": "stdout",
     "output_type": "stream",
     "text": [
      "[2025-01-02 21:50:37] Accuracy: 65.96%\n",
      "2025-01-02 21:50:35 Epoch [10/10], Loss: 0.9784, Train Accuracy: 73.00%, Test Accuracy: 65.96%\n",
      "[2025-01-02 21:51:37] Epoch [1/10], Loss: 4.6238\n",
      "[2025-01-02 21:52:37] Epoch [2/10], Loss: 4.4842\n",
      "[2025-01-02 21:53:37] Epoch [3/10], Loss: 4.4668\n",
      "[2025-01-02 21:54:38] Epoch [4/10], Loss: 4.4572\n",
      "[2025-01-02 21:55:37] Epoch [5/10], Loss: 4.4476\n",
      "[2025-01-02 21:56:38] Epoch [6/10], Loss: 4.4401\n",
      "[2025-01-02 21:57:41] Epoch [7/10], Loss: 4.4338\n",
      "[2025-01-02 21:58:44] Epoch [8/10], Loss: 4.4295\n",
      "[2025-01-02 21:59:45] Epoch [9/10], Loss: 4.4277\n",
      "[2025-01-02 22:00:45] Epoch [10/10], Loss: 4.4261\n",
      "[2025-01-02 22:00:46] Accuracy: 13.90%\n",
      "2025-01-02 22:00:45 Epoch [1/10], Loss: 2.4573, Train Accuracy: 7.00%, Test Accuracy: 13.90%\n",
      "[2025-01-02 22:00:48] Accuracy: 18.13%\n",
      "2025-01-02 22:00:46 Epoch [2/10], Loss: 2.3144, Train Accuracy: 14.00%, Test Accuracy: 18.13%\n",
      "2025-01-02 22:00:48 Epoch [3/10], Loss: 2.2039, Train Accuracy: 24.00%, Test Accuracy: 18.13%\n",
      "[2025-01-02 22:00:50] Accuracy: 26.08%\n",
      "2025-01-02 22:00:48 Epoch [4/10], Loss: 2.0992, Train Accuracy: 31.00%, Test Accuracy: 26.08%\n",
      "2025-01-02 22:00:50 Epoch [5/10], Loss: 2.0024, Train Accuracy: 34.00%, Test Accuracy: 26.08%\n",
      "[2025-01-02 22:00:52] Accuracy: 36.05%\n",
      "2025-01-02 22:00:50 Epoch [6/10], Loss: 1.8927, Train Accuracy: 42.00%, Test Accuracy: 36.05%\n",
      "2025-01-02 22:00:52 Epoch [7/10], Loss: 1.7857, Train Accuracy: 52.00%, Test Accuracy: 36.05%\n",
      "[2025-01-02 22:00:53] Accuracy: 45.92%\n",
      "2025-01-02 22:00:52 Epoch [8/10], Loss: 1.7187, Train Accuracy: 55.00%, Test Accuracy: 45.92%\n",
      "2025-01-02 22:00:53 Epoch [9/10], Loss: 1.5873, Train Accuracy: 61.00%, Test Accuracy: 45.92%\n"
     ]
    },
    {
     "name": "stderr",
     "output_type": "stream",
     "text": [
      "[I 2025-01-02 22:00:55,430] Trial 9 finished with value: 51.59 and parameters: {'lr_simclr': 0.0003835220840290519, 'lr_finetune': 0.00037251324160785096}. Best is trial 1 with value: 81.27.\n"
     ]
    },
    {
     "name": "stdout",
     "output_type": "stream",
     "text": [
      "[2025-01-02 22:00:55] Accuracy: 51.59%\n",
      "2025-01-02 22:00:53 Epoch [10/10], Loss: 1.5041, Train Accuracy: 66.00%, Test Accuracy: 51.59%\n",
      "[2025-01-02 22:01:57] Epoch [1/10], Loss: 4.6556\n",
      "[2025-01-02 22:02:59] Epoch [2/10], Loss: 4.5146\n",
      "[2025-01-02 22:04:01] Epoch [3/10], Loss: 4.4881\n",
      "[2025-01-02 22:05:02] Epoch [4/10], Loss: 4.4712\n",
      "[2025-01-02 22:06:04] Epoch [5/10], Loss: 4.4641\n",
      "[2025-01-02 22:07:06] Epoch [6/10], Loss: 4.4588\n",
      "[2025-01-02 22:08:07] Epoch [7/10], Loss: 4.4548\n",
      "[2025-01-02 22:09:08] Epoch [8/10], Loss: 4.4521\n",
      "[2025-01-02 22:10:11] Epoch [9/10], Loss: 4.4505\n",
      "[2025-01-02 22:11:13] Epoch [10/10], Loss: 4.4491\n",
      "[2025-01-02 22:11:15] Accuracy: 11.86%\n",
      "2025-01-02 22:11:13 Epoch [1/10], Loss: 2.3342, Train Accuracy: 8.00%, Test Accuracy: 11.86%\n",
      "[2025-01-02 22:11:17] Accuracy: 27.86%\n",
      "2025-01-02 22:11:15 Epoch [2/10], Loss: 5.2149, Train Accuracy: 16.00%, Test Accuracy: 27.86%\n",
      "2025-01-02 22:11:17 Epoch [3/10], Loss: 2.3958, Train Accuracy: 32.00%, Test Accuracy: 27.86%\n",
      "[2025-01-02 22:11:19] Accuracy: 56.46%\n",
      "2025-01-02 22:11:17 Epoch [4/10], Loss: 1.7862, Train Accuracy: 62.00%, Test Accuracy: 56.46%\n",
      "2025-01-02 22:11:19 Epoch [5/10], Loss: 1.5140, Train Accuracy: 62.00%, Test Accuracy: 56.46%\n",
      "[2025-01-02 22:11:20] Accuracy: 61.94%\n",
      "2025-01-02 22:11:19 Epoch [6/10], Loss: 1.0676, Train Accuracy: 76.00%, Test Accuracy: 61.94%\n",
      "2025-01-02 22:11:20 Epoch [7/10], Loss: 0.7881, Train Accuracy: 78.00%, Test Accuracy: 61.94%\n",
      "[2025-01-02 22:11:22] Accuracy: 71.92%\n",
      "2025-01-02 22:11:20 Epoch [8/10], Loss: 0.6183, Train Accuracy: 79.00%, Test Accuracy: 71.92%\n",
      "2025-01-02 22:11:22 Epoch [9/10], Loss: 0.3782, Train Accuracy: 88.00%, Test Accuracy: 71.92%\n"
     ]
    },
    {
     "name": "stderr",
     "output_type": "stream",
     "text": [
      "[I 2025-01-02 22:11:24,462] Trial 10 finished with value: 73.16 and parameters: {'lr_simclr': 0.00019190744925784713, 'lr_finetune': 0.008169774101132243}. Best is trial 1 with value: 81.27.\n"
     ]
    },
    {
     "name": "stdout",
     "output_type": "stream",
     "text": [
      "[2025-01-02 22:11:24] Accuracy: 73.16%\n",
      "2025-01-02 22:11:22 Epoch [10/10], Loss: 0.3325, Train Accuracy: 90.00%, Test Accuracy: 73.16%\n",
      "[2025-01-02 22:12:27] Epoch [1/10], Loss: 4.7391\n",
      "[2025-01-02 22:13:32] Epoch [2/10], Loss: 4.5372\n",
      "[2025-01-02 22:14:36] Epoch [3/10], Loss: 4.5113\n",
      "[2025-01-02 22:15:40] Epoch [4/10], Loss: 4.4970\n",
      "[2025-01-02 22:16:43] Epoch [5/10], Loss: 4.4869\n",
      "[2025-01-02 22:17:46] Epoch [6/10], Loss: 4.4804\n",
      "[2025-01-02 22:18:49] Epoch [7/10], Loss: 4.4758\n",
      "[2025-01-02 22:19:52] Epoch [8/10], Loss: 4.4722\n",
      "[2025-01-02 22:20:55] Epoch [9/10], Loss: 4.4707\n",
      "[2025-01-02 22:21:58] Epoch [10/10], Loss: 4.4690\n",
      "[2025-01-02 22:22:00] Accuracy: 10.47%\n",
      "2025-01-02 22:21:58 Epoch [1/10], Loss: 2.3302, Train Accuracy: 9.00%, Test Accuracy: 10.47%\n",
      "[2025-01-02 22:22:02] Accuracy: 10.28%\n",
      "2025-01-02 22:22:00 Epoch [2/10], Loss: 12.0684, Train Accuracy: 19.00%, Test Accuracy: 10.28%\n",
      "2025-01-02 22:22:02 Epoch [3/10], Loss: 3.4402, Train Accuracy: 16.00%, Test Accuracy: 10.28%\n",
      "[2025-01-02 22:22:04] Accuracy: 19.35%\n",
      "2025-01-02 22:22:02 Epoch [4/10], Loss: 2.2036, Train Accuracy: 38.00%, Test Accuracy: 19.35%\n",
      "2025-01-02 22:22:04 Epoch [5/10], Loss: 2.2640, Train Accuracy: 25.00%, Test Accuracy: 19.35%\n",
      "[2025-01-02 22:22:06] Accuracy: 26.31%\n",
      "2025-01-02 22:22:04 Epoch [6/10], Loss: 2.2275, Train Accuracy: 33.00%, Test Accuracy: 26.31%\n",
      "2025-01-02 22:22:06 Epoch [7/10], Loss: 2.1251, Train Accuracy: 35.00%, Test Accuracy: 26.31%\n",
      "[2025-01-02 22:22:07] Accuracy: 22.30%\n",
      "2025-01-02 22:22:06 Epoch [8/10], Loss: 1.9816, Train Accuracy: 41.00%, Test Accuracy: 22.30%\n",
      "2025-01-02 22:22:07 Epoch [9/10], Loss: 1.7967, Train Accuracy: 34.00%, Test Accuracy: 22.30%\n"
     ]
    },
    {
     "name": "stderr",
     "output_type": "stream",
     "text": [
      "[I 2025-01-02 22:22:09,811] Trial 11 finished with value: 40.56 and parameters: {'lr_simclr': 0.00011989492135840053, 'lr_finetune': 0.00973115347241377}. Best is trial 1 with value: 81.27.\n"
     ]
    },
    {
     "name": "stdout",
     "output_type": "stream",
     "text": [
      "[2025-01-02 22:22:09] Accuracy: 40.56%\n",
      "2025-01-02 22:22:07 Epoch [10/10], Loss: 1.6935, Train Accuracy: 32.00%, Test Accuracy: 40.56%\n",
      "[2025-01-02 22:23:14] Epoch [1/10], Loss: 4.7243\n",
      "[2025-01-02 22:24:18] Epoch [2/10], Loss: 4.5321\n",
      "[2025-01-02 22:25:24] Epoch [3/10], Loss: 4.5089\n",
      "[2025-01-02 22:26:28] Epoch [4/10], Loss: 4.4946\n",
      "[2025-01-02 22:27:30] Epoch [5/10], Loss: 4.4859\n",
      "[2025-01-02 22:28:31] Epoch [6/10], Loss: 4.4792\n",
      "[2025-01-02 22:29:32] Epoch [7/10], Loss: 4.4748\n",
      "[2025-01-02 22:30:35] Epoch [8/10], Loss: 4.4716\n",
      "[2025-01-02 22:31:38] Epoch [9/10], Loss: 4.4703\n",
      "[2025-01-02 22:32:42] Epoch [10/10], Loss: 4.4693\n",
      "[2025-01-02 22:32:44] Accuracy: 9.80%\n",
      "2025-01-02 22:32:42 Epoch [1/10], Loss: 2.3072, Train Accuracy: 4.00%, Test Accuracy: 9.80%\n",
      "[2025-01-02 22:32:46] Accuracy: 19.01%\n",
      "2025-01-02 22:32:44 Epoch [2/10], Loss: 15.3469, Train Accuracy: 15.00%, Test Accuracy: 19.01%\n",
      "2025-01-02 22:32:46 Epoch [3/10], Loss: 2.3368, Train Accuracy: 24.00%, Test Accuracy: 19.01%\n",
      "[2025-01-02 22:32:48] Accuracy: 10.10%\n",
      "2025-01-02 22:32:46 Epoch [4/10], Loss: 2.2876, Train Accuracy: 20.00%, Test Accuracy: 10.10%\n",
      "2025-01-02 22:32:48 Epoch [5/10], Loss: 2.2943, Train Accuracy: 15.00%, Test Accuracy: 10.10%\n",
      "[2025-01-02 22:32:49] Accuracy: 22.70%\n",
      "2025-01-02 22:32:48 Epoch [6/10], Loss: 2.2488, Train Accuracy: 26.00%, Test Accuracy: 22.70%\n",
      "2025-01-02 22:32:49 Epoch [7/10], Loss: 2.1356, Train Accuracy: 31.00%, Test Accuracy: 22.70%\n",
      "[2025-01-02 22:32:51] Accuracy: 29.30%\n",
      "2025-01-02 22:32:49 Epoch [8/10], Loss: 2.1138, Train Accuracy: 28.00%, Test Accuracy: 29.30%\n",
      "2025-01-02 22:32:51 Epoch [9/10], Loss: 1.8937, Train Accuracy: 46.00%, Test Accuracy: 29.30%\n"
     ]
    },
    {
     "name": "stderr",
     "output_type": "stream",
     "text": [
      "[I 2025-01-02 22:32:53,461] Trial 12 finished with value: 55.84 and parameters: {'lr_simclr': 0.00011409012686992587, 'lr_finetune': 0.00950039708504471}. Best is trial 1 with value: 81.27.\n"
     ]
    },
    {
     "name": "stdout",
     "output_type": "stream",
     "text": [
      "[2025-01-02 22:32:53] Accuracy: 55.84%\n",
      "2025-01-02 22:32:51 Epoch [10/10], Loss: 1.7079, Train Accuracy: 62.00%, Test Accuracy: 55.84%\n",
      "[2025-01-02 22:33:56] Epoch [1/10], Loss: 4.6162\n",
      "[2025-01-02 22:35:02] Epoch [2/10], Loss: 4.4311\n",
      "[2025-01-02 22:36:05] Epoch [3/10], Loss: 4.4167\n",
      "[2025-01-02 22:37:08] Epoch [4/10], Loss: 4.4067\n",
      "[2025-01-02 22:38:10] Epoch [5/10], Loss: 4.3992\n",
      "[2025-01-02 22:39:12] Epoch [6/10], Loss: 4.3925\n",
      "[2025-01-02 22:40:13] Epoch [7/10], Loss: 4.3874\n",
      "[2025-01-02 22:41:15] Epoch [8/10], Loss: 4.3825\n",
      "[2025-01-02 22:42:22] Epoch [9/10], Loss: 4.3793\n",
      "[2025-01-02 22:43:26] Epoch [10/10], Loss: 4.3782\n",
      "[2025-01-02 22:43:28] Accuracy: 31.76%\n",
      "2025-01-02 22:43:26 Epoch [1/10], Loss: 3.5726, Train Accuracy: 4.00%, Test Accuracy: 31.76%\n",
      "[2025-01-02 22:43:30] Accuracy: 46.45%\n",
      "2025-01-02 22:43:28 Epoch [2/10], Loss: 1.9382, Train Accuracy: 36.00%, Test Accuracy: 46.45%\n",
      "2025-01-02 22:43:30 Epoch [3/10], Loss: 1.7720, Train Accuracy: 51.00%, Test Accuracy: 46.45%\n",
      "[2025-01-02 22:43:31] Accuracy: 56.56%\n",
      "2025-01-02 22:43:30 Epoch [4/10], Loss: 1.6655, Train Accuracy: 65.00%, Test Accuracy: 56.56%\n",
      "2025-01-02 22:43:31 Epoch [5/10], Loss: 1.4247, Train Accuracy: 72.00%, Test Accuracy: 56.56%\n",
      "[2025-01-02 22:43:33] Accuracy: 61.53%\n",
      "2025-01-02 22:43:31 Epoch [6/10], Loss: 1.1141, Train Accuracy: 73.00%, Test Accuracy: 61.53%\n",
      "2025-01-02 22:43:33 Epoch [7/10], Loss: 0.7889, Train Accuracy: 82.00%, Test Accuracy: 61.53%\n",
      "[2025-01-02 22:43:35] Accuracy: 64.31%\n",
      "2025-01-02 22:43:33 Epoch [8/10], Loss: 0.5439, Train Accuracy: 87.00%, Test Accuracy: 64.31%\n",
      "2025-01-02 22:43:35 Epoch [9/10], Loss: 0.4019, Train Accuracy: 89.00%, Test Accuracy: 64.31%\n"
     ]
    },
    {
     "name": "stderr",
     "output_type": "stream",
     "text": [
      "[I 2025-01-02 22:43:37,271] Trial 13 finished with value: 67.71 and parameters: {'lr_simclr': 0.002671699202774512, 'lr_finetune': 0.00516700918367184}. Best is trial 1 with value: 81.27.\n"
     ]
    },
    {
     "name": "stdout",
     "output_type": "stream",
     "text": [
      "[2025-01-02 22:43:37] Accuracy: 67.71%\n",
      "2025-01-02 22:43:35 Epoch [10/10], Loss: 0.3319, Train Accuracy: 90.00%, Test Accuracy: 67.71%\n",
      "[2025-01-02 22:44:41] Epoch [1/10], Loss: 4.6748\n",
      "[2025-01-02 22:45:45] Epoch [2/10], Loss: 4.5109\n",
      "[2025-01-02 22:46:48] Epoch [3/10], Loss: 4.4851\n",
      "[2025-01-02 22:47:51] Epoch [4/10], Loss: 4.4741\n",
      "[2025-01-02 22:48:54] Epoch [5/10], Loss: 4.4662\n",
      "[2025-01-02 22:49:56] Epoch [6/10], Loss: 4.4606\n",
      "[2025-01-02 22:50:57] Epoch [7/10], Loss: 4.4570\n",
      "[2025-01-02 22:51:57] Epoch [8/10], Loss: 4.4538\n",
      "[2025-01-02 22:52:57] Epoch [9/10], Loss: 4.4526\n",
      "[2025-01-02 22:53:58] Epoch [10/10], Loss: 4.4519\n",
      "[2025-01-02 22:54:00] Accuracy: 23.46%\n",
      "2025-01-02 22:53:59 Epoch [1/10], Loss: 2.2849, Train Accuracy: 20.00%, Test Accuracy: 23.46%\n",
      "[2025-01-02 22:54:02] Accuracy: 35.99%\n",
      "2025-01-02 22:54:00 Epoch [2/10], Loss: 2.0953, Train Accuracy: 24.00%, Test Accuracy: 35.99%\n",
      "2025-01-02 22:54:02 Epoch [3/10], Loss: 1.8621, Train Accuracy: 43.00%, Test Accuracy: 35.99%\n",
      "[2025-01-02 22:54:04] Accuracy: 60.07%\n",
      "2025-01-02 22:54:02 Epoch [4/10], Loss: 1.6639, Train Accuracy: 61.00%, Test Accuracy: 60.07%\n",
      "2025-01-02 22:54:04 Epoch [5/10], Loss: 1.4503, Train Accuracy: 65.00%, Test Accuracy: 60.07%\n",
      "[2025-01-02 22:54:06] Accuracy: 67.08%\n",
      "2025-01-02 22:54:04 Epoch [6/10], Loss: 1.2472, Train Accuracy: 75.00%, Test Accuracy: 67.08%\n",
      "2025-01-02 22:54:06 Epoch [7/10], Loss: 1.0867, Train Accuracy: 75.00%, Test Accuracy: 67.08%\n",
      "[2025-01-02 22:54:07] Accuracy: 69.84%\n",
      "2025-01-02 22:54:06 Epoch [8/10], Loss: 0.9193, Train Accuracy: 78.00%, Test Accuracy: 69.84%\n",
      "2025-01-02 22:54:07 Epoch [9/10], Loss: 0.7538, Train Accuracy: 82.00%, Test Accuracy: 69.84%\n"
     ]
    },
    {
     "name": "stderr",
     "output_type": "stream",
     "text": [
      "[I 2025-01-02 22:54:09,282] Trial 14 finished with value: 72.33 and parameters: {'lr_simclr': 0.00016685077091705737, 'lr_finetune': 0.0007499754931803498}. Best is trial 1 with value: 81.27.\n"
     ]
    },
    {
     "name": "stdout",
     "output_type": "stream",
     "text": [
      "[2025-01-02 22:54:09] Accuracy: 72.33%\n",
      "2025-01-02 22:54:07 Epoch [10/10], Loss: 0.6731, Train Accuracy: 87.00%, Test Accuracy: 72.33%\n",
      "[2025-01-02 22:55:10] Epoch [1/10], Loss: 4.5792\n",
      "[2025-01-02 22:56:10] Epoch [2/10], Loss: 4.4607\n",
      "[2025-01-02 22:57:11] Epoch [3/10], Loss: 4.4375\n",
      "[2025-01-02 22:58:12] Epoch [4/10], Loss: 4.4243\n",
      "[2025-01-02 22:59:14] Epoch [5/10], Loss: 4.4150\n",
      "[2025-01-02 23:00:15] Epoch [6/10], Loss: 4.4078\n",
      "[2025-01-02 23:01:18] Epoch [7/10], Loss: 4.4014\n",
      "[2025-01-02 23:02:20] Epoch [8/10], Loss: 4.3970\n",
      "[2025-01-02 23:03:20] Epoch [9/10], Loss: 4.3942\n",
      "[2025-01-02 23:04:21] Epoch [10/10], Loss: 4.3924\n",
      "[2025-01-02 23:04:23] Accuracy: 49.07%\n",
      "2025-01-02 23:04:21 Epoch [1/10], Loss: 2.4128, Train Accuracy: 6.00%, Test Accuracy: 49.07%\n",
      "[2025-01-02 23:04:25] Accuracy: 65.45%\n",
      "2025-01-02 23:04:23 Epoch [2/10], Loss: 1.8857, Train Accuracy: 49.00%, Test Accuracy: 65.45%\n",
      "2025-01-02 23:04:25 Epoch [3/10], Loss: 1.1915, Train Accuracy: 77.00%, Test Accuracy: 65.45%\n",
      "[2025-01-02 23:04:27] Accuracy: 75.39%\n",
      "2025-01-02 23:04:25 Epoch [4/10], Loss: 0.4648, Train Accuracy: 91.00%, Test Accuracy: 75.39%\n",
      "2025-01-02 23:04:27 Epoch [5/10], Loss: 0.2440, Train Accuracy: 93.00%, Test Accuracy: 75.39%\n",
      "[2025-01-02 23:04:28] Accuracy: 75.45%\n",
      "2025-01-02 23:04:27 Epoch [6/10], Loss: 0.5585, Train Accuracy: 84.00%, Test Accuracy: 75.45%\n",
      "2025-01-02 23:04:28 Epoch [7/10], Loss: 0.2372, Train Accuracy: 91.00%, Test Accuracy: 75.45%\n",
      "[2025-01-02 23:04:30] Accuracy: 83.14%\n",
      "2025-01-02 23:04:28 Epoch [8/10], Loss: 0.4347, Train Accuracy: 88.00%, Test Accuracy: 83.14%\n",
      "2025-01-02 23:04:30 Epoch [9/10], Loss: 0.0363, Train Accuracy: 99.00%, Test Accuracy: 83.14%\n"
     ]
    },
    {
     "name": "stderr",
     "output_type": "stream",
     "text": [
      "[I 2025-01-02 23:04:32,176] Trial 15 finished with value: 83.14 and parameters: {'lr_simclr': 0.0008429377952133938, 'lr_finetune': 0.005990158358190809}. Best is trial 15 with value: 83.14.\n"
     ]
    },
    {
     "name": "stdout",
     "output_type": "stream",
     "text": [
      "[2025-01-02 23:04:32] Accuracy: 78.63%\n",
      "2025-01-02 23:04:30 Epoch [10/10], Loss: 0.1115, Train Accuracy: 98.00%, Test Accuracy: 78.63%\n",
      "[2025-01-02 23:05:31] Epoch [1/10], Loss: 4.5893\n",
      "[2025-01-02 23:06:31] Epoch [2/10], Loss: 4.4642\n",
      "[2025-01-02 23:07:32] Epoch [3/10], Loss: 4.4377\n",
      "[2025-01-02 23:08:32] Epoch [4/10], Loss: 4.4221\n",
      "[2025-01-02 23:09:32] Epoch [5/10], Loss: 4.4128\n",
      "[2025-01-02 23:10:32] Epoch [6/10], Loss: 4.4058\n",
      "[2025-01-02 23:11:32] Epoch [7/10], Loss: 4.4007\n",
      "[2025-01-02 23:12:35] Epoch [8/10], Loss: 4.3971\n",
      "[2025-01-02 23:13:40] Epoch [9/10], Loss: 4.3939\n",
      "[2025-01-02 23:14:44] Epoch [10/10], Loss: 4.3922\n",
      "[2025-01-02 23:14:46] Accuracy: 29.91%\n",
      "2025-01-02 23:14:44 Epoch [1/10], Loss: 2.4062, Train Accuracy: 12.00%, Test Accuracy: 29.91%\n",
      "[2025-01-02 23:14:47] Accuracy: 35.61%\n",
      "2025-01-02 23:14:46 Epoch [2/10], Loss: 1.9067, Train Accuracy: 45.00%, Test Accuracy: 35.61%\n",
      "2025-01-02 23:14:47 Epoch [3/10], Loss: 1.5581, Train Accuracy: 57.00%, Test Accuracy: 35.61%\n",
      "[2025-01-02 23:14:49] Accuracy: 57.58%\n",
      "2025-01-02 23:14:47 Epoch [4/10], Loss: 1.1606, Train Accuracy: 68.00%, Test Accuracy: 57.58%\n",
      "2025-01-02 23:14:49 Epoch [5/10], Loss: 0.8141, Train Accuracy: 80.00%, Test Accuracy: 57.58%\n",
      "[2025-01-02 23:14:51] Accuracy: 69.54%\n",
      "2025-01-02 23:14:49 Epoch [6/10], Loss: 0.5554, Train Accuracy: 86.00%, Test Accuracy: 69.54%\n",
      "2025-01-02 23:14:51 Epoch [7/10], Loss: 0.4394, Train Accuracy: 88.00%, Test Accuracy: 69.54%\n",
      "[2025-01-02 23:14:53] Accuracy: 75.39%\n",
      "2025-01-02 23:14:51 Epoch [8/10], Loss: 0.3471, Train Accuracy: 89.00%, Test Accuracy: 75.39%\n",
      "2025-01-02 23:14:53 Epoch [9/10], Loss: 0.2513, Train Accuracy: 93.00%, Test Accuracy: 75.39%\n"
     ]
    },
    {
     "name": "stderr",
     "output_type": "stream",
     "text": [
      "[I 2025-01-02 23:14:54,866] Trial 16 finished with value: 75.39 and parameters: {'lr_simclr': 0.0008101671233380172, 'lr_finetune': 0.0019519629416698608}. Best is trial 15 with value: 83.14.\n"
     ]
    },
    {
     "name": "stdout",
     "output_type": "stream",
     "text": [
      "[2025-01-02 23:14:54] Accuracy: 74.10%\n",
      "2025-01-02 23:14:53 Epoch [10/10], Loss: 0.2119, Train Accuracy: 95.00%, Test Accuracy: 74.10%\n",
      "[2025-01-02 23:15:57] Epoch [1/10], Loss: 4.6419\n",
      "[2025-01-02 23:17:00] Epoch [2/10], Loss: 4.4311\n",
      "[2025-01-02 23:18:01] Epoch [3/10], Loss: 4.4125\n",
      "[2025-01-02 23:19:03] Epoch [4/10], Loss: 4.4047\n",
      "[2025-01-02 23:20:07] Epoch [5/10], Loss: 4.3979\n",
      "[2025-01-02 23:21:08] Epoch [6/10], Loss: 4.3935\n",
      "[2025-01-02 23:22:09] Epoch [7/10], Loss: 4.3886\n",
      "[2025-01-02 23:23:15] Epoch [8/10], Loss: 4.3857\n",
      "[2025-01-02 23:24:18] Epoch [9/10], Loss: 4.3835\n",
      "[2025-01-02 23:25:20] Epoch [10/10], Loss: 4.3821\n",
      "[2025-01-02 23:25:22] Accuracy: 26.55%\n",
      "2025-01-02 23:25:20 Epoch [1/10], Loss: 3.0164, Train Accuracy: 12.00%, Test Accuracy: 26.55%\n",
      "[2025-01-02 23:25:24] Accuracy: 51.00%\n",
      "2025-01-02 23:25:22 Epoch [2/10], Loss: 2.0444, Train Accuracy: 35.00%, Test Accuracy: 51.00%\n",
      "2025-01-02 23:25:24 Epoch [3/10], Loss: 1.7511, Train Accuracy: 67.00%, Test Accuracy: 51.00%\n",
      "[2025-01-02 23:25:26] Accuracy: 64.31%\n",
      "2025-01-02 23:25:24 Epoch [4/10], Loss: 1.4217, Train Accuracy: 76.00%, Test Accuracy: 64.31%\n",
      "2025-01-02 23:25:26 Epoch [5/10], Loss: 1.0150, Train Accuracy: 78.00%, Test Accuracy: 64.31%\n",
      "[2025-01-02 23:25:27] Accuracy: 73.21%\n",
      "2025-01-02 23:25:26 Epoch [6/10], Loss: 0.6411, Train Accuracy: 84.00%, Test Accuracy: 73.21%\n",
      "2025-01-02 23:25:27 Epoch [7/10], Loss: 0.4761, Train Accuracy: 84.00%, Test Accuracy: 73.21%\n",
      "[2025-01-02 23:25:29] Accuracy: 74.93%\n",
      "2025-01-02 23:25:27 Epoch [8/10], Loss: 0.2986, Train Accuracy: 87.00%, Test Accuracy: 74.93%\n",
      "2025-01-02 23:25:29 Epoch [9/10], Loss: 0.2391, Train Accuracy: 94.00%, Test Accuracy: 74.93%\n"
     ]
    },
    {
     "name": "stderr",
     "output_type": "stream",
     "text": [
      "[I 2025-01-02 23:25:31,440] Trial 17 finished with value: 80.56 and parameters: {'lr_simclr': 0.0017897090624855619, 'lr_finetune': 0.005370888920152783}. Best is trial 15 with value: 83.14.\n"
     ]
    },
    {
     "name": "stdout",
     "output_type": "stream",
     "text": [
      "[2025-01-02 23:25:31] Accuracy: 80.56%\n",
      "2025-01-02 23:25:29 Epoch [10/10], Loss: 0.3351, Train Accuracy: 87.00%, Test Accuracy: 80.56%\n",
      "[2025-01-02 23:26:35] Epoch [1/10], Loss: 4.6115\n",
      "[2025-01-02 23:27:38] Epoch [2/10], Loss: 4.4661\n",
      "[2025-01-02 23:28:42] Epoch [3/10], Loss: 4.4413\n",
      "[2025-01-02 23:29:43] Epoch [4/10], Loss: 4.4260\n",
      "[2025-01-02 23:30:45] Epoch [5/10], Loss: 4.4155\n",
      "[2025-01-02 23:31:48] Epoch [6/10], Loss: 4.4085\n",
      "[2025-01-02 23:32:49] Epoch [7/10], Loss: 4.4042\n",
      "[2025-01-02 23:33:55] Epoch [8/10], Loss: 4.4004\n",
      "[2025-01-02 23:34:59] Epoch [9/10], Loss: 4.3979\n",
      "[2025-01-02 23:36:05] Epoch [10/10], Loss: 4.3970\n",
      "[2025-01-02 23:36:07] Accuracy: 44.78%\n",
      "2025-01-02 23:36:05 Epoch [1/10], Loss: 2.3068, Train Accuracy: 15.00%, Test Accuracy: 44.78%\n",
      "[2025-01-02 23:36:08] Accuracy: 52.10%\n",
      "2025-01-02 23:36:07 Epoch [2/10], Loss: 1.7732, Train Accuracy: 58.00%, Test Accuracy: 52.10%\n",
      "2025-01-02 23:36:08 Epoch [3/10], Loss: 1.2617, Train Accuracy: 70.00%, Test Accuracy: 52.10%\n",
      "[2025-01-02 23:36:10] Accuracy: 72.44%\n",
      "2025-01-02 23:36:08 Epoch [4/10], Loss: 0.7031, Train Accuracy: 89.00%, Test Accuracy: 72.44%\n",
      "2025-01-02 23:36:10 Epoch [5/10], Loss: 0.4016, Train Accuracy: 90.00%, Test Accuracy: 72.44%\n",
      "[2025-01-02 23:36:12] Accuracy: 70.41%\n",
      "2025-01-02 23:36:10 Epoch [6/10], Loss: 0.2980, Train Accuracy: 91.00%, Test Accuracy: 70.41%\n",
      "2025-01-02 23:36:12 Epoch [7/10], Loss: 0.2316, Train Accuracy: 90.00%, Test Accuracy: 70.41%\n",
      "[2025-01-02 23:36:14] Accuracy: 74.66%\n",
      "2025-01-02 23:36:12 Epoch [8/10], Loss: 0.1335, Train Accuracy: 95.00%, Test Accuracy: 74.66%\n",
      "2025-01-02 23:36:14 Epoch [9/10], Loss: 0.0807, Train Accuracy: 97.00%, Test Accuracy: 74.66%\n"
     ]
    },
    {
     "name": "stderr",
     "output_type": "stream",
     "text": [
      "[I 2025-01-02 23:36:16,515] Trial 18 finished with value: 76.18 and parameters: {'lr_simclr': 0.0006624491531516687, 'lr_finetune': 0.002827678137591563}. Best is trial 15 with value: 83.14.\n"
     ]
    },
    {
     "name": "stdout",
     "output_type": "stream",
     "text": [
      "[2025-01-02 23:36:16] Accuracy: 76.18%\n",
      "2025-01-02 23:36:14 Epoch [10/10], Loss: 0.0722, Train Accuracy: 97.00%, Test Accuracy: 76.18%\n",
      "[2025-01-02 23:37:21] Epoch [1/10], Loss: 4.5639\n",
      "[2025-01-02 23:38:26] Epoch [2/10], Loss: 4.4212\n",
      "[2025-01-02 23:39:29] Epoch [3/10], Loss: 4.4020\n",
      "[2025-01-02 23:40:34] Epoch [4/10], Loss: 4.3917\n",
      "[2025-01-02 23:41:35] Epoch [5/10], Loss: 4.3838\n",
      "[2025-01-02 23:42:41] Epoch [6/10], Loss: 4.3781\n",
      "[2025-01-02 23:43:50] Epoch [7/10], Loss: 4.3723\n",
      "[2025-01-02 23:45:00] Epoch [8/10], Loss: 4.3697\n",
      "[2025-01-02 23:46:13] Epoch [9/10], Loss: 4.3665\n",
      "[2025-01-02 23:47:25] Epoch [10/10], Loss: 4.3654\n",
      "[2025-01-02 23:47:27] Accuracy: 7.84%\n",
      "2025-01-02 23:47:25 Epoch [1/10], Loss: 6.7006, Train Accuracy: 8.00%, Test Accuracy: 7.84%\n",
      "[2025-01-02 23:47:29] Accuracy: 11.78%\n",
      "2025-01-02 23:47:27 Epoch [2/10], Loss: 5.4756, Train Accuracy: 10.00%, Test Accuracy: 11.78%\n",
      "2025-01-02 23:47:29 Epoch [3/10], Loss: 4.1712, Train Accuracy: 18.00%, Test Accuracy: 11.78%\n",
      "[2025-01-02 23:47:31] Accuracy: 18.85%\n",
      "2025-01-02 23:47:29 Epoch [4/10], Loss: 3.6042, Train Accuracy: 20.00%, Test Accuracy: 18.85%\n",
      "2025-01-02 23:47:31 Epoch [5/10], Loss: 3.0355, Train Accuracy: 19.00%, Test Accuracy: 18.85%\n",
      "[2025-01-02 23:47:33] Accuracy: 26.69%\n",
      "2025-01-02 23:47:31 Epoch [6/10], Loss: 2.6709, Train Accuracy: 32.00%, Test Accuracy: 26.69%\n",
      "2025-01-02 23:47:33 Epoch [7/10], Loss: 2.4219, Train Accuracy: 30.00%, Test Accuracy: 26.69%\n",
      "[2025-01-02 23:47:35] Accuracy: 34.48%\n",
      "2025-01-02 23:47:33 Epoch [8/10], Loss: 2.2197, Train Accuracy: 25.00%, Test Accuracy: 34.48%\n",
      "2025-01-02 23:47:35 Epoch [9/10], Loss: 1.9549, Train Accuracy: 33.00%, Test Accuracy: 34.48%\n"
     ]
    },
    {
     "name": "stderr",
     "output_type": "stream",
     "text": [
      "[I 2025-01-02 23:47:37,114] Trial 19 finished with value: 39.52 and parameters: {'lr_simclr': 0.0036769002750535753, 'lr_finetune': 0.0012864979816726802}. Best is trial 15 with value: 83.14.\n"
     ]
    },
    {
     "name": "stdout",
     "output_type": "stream",
     "text": [
      "[2025-01-02 23:47:37] Accuracy: 39.52%\n",
      "2025-01-02 23:47:35 Epoch [10/10], Loss: 1.7894, Train Accuracy: 41.00%, Test Accuracy: 39.52%\n",
      "[2025-01-02 23:48:49] Epoch [1/10], Loss: 4.5720\n",
      "[2025-01-02 23:49:57] Epoch [2/10], Loss: 4.4440\n",
      "[2025-01-02 23:51:03] Epoch [3/10], Loss: 4.4237\n",
      "[2025-01-02 23:52:10] Epoch [4/10], Loss: 4.4091\n",
      "[2025-01-02 23:53:13] Epoch [5/10], Loss: 4.3986\n",
      "[2025-01-02 23:54:10] Epoch [6/10], Loss: 4.3920\n",
      "[2025-01-02 23:55:05] Epoch [7/10], Loss: 4.3863\n",
      "[2025-01-02 23:56:00] Epoch [8/10], Loss: 4.3820\n",
      "[2025-01-02 23:56:55] Epoch [9/10], Loss: 4.3793\n",
      "[2025-01-02 23:57:50] Epoch [10/10], Loss: 4.3782\n",
      "[2025-01-02 23:57:52] Accuracy: 41.86%\n",
      "2025-01-02 23:57:50 Epoch [1/10], Loss: 2.8258, Train Accuracy: 9.00%, Test Accuracy: 41.86%\n",
      "[2025-01-02 23:57:53] Accuracy: 48.51%\n",
      "2025-01-02 23:57:52 Epoch [2/10], Loss: 1.8910, Train Accuracy: 41.00%, Test Accuracy: 48.51%\n",
      "2025-01-02 23:57:53 Epoch [3/10], Loss: 1.5660, Train Accuracy: 59.00%, Test Accuracy: 48.51%\n",
      "[2025-01-02 23:57:55] Accuracy: 59.48%\n",
      "2025-01-02 23:57:53 Epoch [4/10], Loss: 1.1109, Train Accuracy: 70.00%, Test Accuracy: 59.48%\n",
      "2025-01-02 23:57:55 Epoch [5/10], Loss: 0.7708, Train Accuracy: 76.00%, Test Accuracy: 59.48%\n",
      "[2025-01-02 23:57:57] Accuracy: 60.17%\n",
      "2025-01-02 23:57:55 Epoch [6/10], Loss: 0.6942, Train Accuracy: 74.00%, Test Accuracy: 60.17%\n",
      "2025-01-02 23:57:57 Epoch [7/10], Loss: 0.5544, Train Accuracy: 81.00%, Test Accuracy: 60.17%\n",
      "[2025-01-02 23:57:58] Accuracy: 66.10%\n",
      "2025-01-02 23:57:57 Epoch [8/10], Loss: 0.3938, Train Accuracy: 86.00%, Test Accuracy: 66.10%\n",
      "2025-01-02 23:57:58 Epoch [9/10], Loss: 0.3369, Train Accuracy: 85.00%, Test Accuracy: 66.10%\n"
     ]
    },
    {
     "name": "stderr",
     "output_type": "stream",
     "text": [
      "[I 2025-01-02 23:58:00,661] Trial 20 finished with value: 67.43 and parameters: {'lr_simclr': 0.0011029434485930094, 'lr_finetune': 0.0053420243288261485}. Best is trial 15 with value: 83.14.\n"
     ]
    },
    {
     "name": "stdout",
     "output_type": "stream",
     "text": [
      "[2025-01-02 23:58:00] Accuracy: 67.43%\n",
      "2025-01-02 23:57:58 Epoch [10/10], Loss: 0.1852, Train Accuracy: 92.00%, Test Accuracy: 67.43%\n",
      "[2025-01-02 23:58:54] Epoch [1/10], Loss: 4.5662\n",
      "[2025-01-02 23:59:49] Epoch [2/10], Loss: 4.4308\n",
      "[2025-01-03 00:00:43] Epoch [3/10], Loss: 4.4129\n",
      "[2025-01-03 00:01:39] Epoch [4/10], Loss: 4.4016\n",
      "[2025-01-03 00:02:34] Epoch [5/10], Loss: 4.3937\n",
      "[2025-01-03 00:03:28] Epoch [6/10], Loss: 4.3870\n",
      "[2025-01-03 00:04:23] Epoch [7/10], Loss: 4.3825\n",
      "[2025-01-03 00:05:17] Epoch [8/10], Loss: 4.3781\n",
      "[2025-01-03 00:06:15] Epoch [9/10], Loss: 4.3757\n",
      "[2025-01-03 00:07:24] Epoch [10/10], Loss: 4.3741\n",
      "[2025-01-03 00:07:26] Accuracy: 39.59%\n",
      "2025-01-03 00:07:24 Epoch [1/10], Loss: 2.9786, Train Accuracy: 8.00%, Test Accuracy: 39.59%\n",
      "[2025-01-03 00:07:28] Accuracy: 56.01%\n",
      "2025-01-03 00:07:26 Epoch [2/10], Loss: 1.8738, Train Accuracy: 37.00%, Test Accuracy: 56.01%\n",
      "2025-01-03 00:07:28 Epoch [3/10], Loss: 1.6664, Train Accuracy: 64.00%, Test Accuracy: 56.01%\n",
      "[2025-01-03 00:07:30] Accuracy: 60.68%\n",
      "2025-01-03 00:07:28 Epoch [4/10], Loss: 1.4049, Train Accuracy: 69.00%, Test Accuracy: 60.68%\n",
      "2025-01-03 00:07:30 Epoch [5/10], Loss: 1.0399, Train Accuracy: 72.00%, Test Accuracy: 60.68%\n",
      "[2025-01-03 00:07:32] Accuracy: 69.83%\n",
      "2025-01-03 00:07:30 Epoch [6/10], Loss: 0.6946, Train Accuracy: 83.00%, Test Accuracy: 69.83%\n",
      "2025-01-03 00:07:32 Epoch [7/10], Loss: 0.3958, Train Accuracy: 91.00%, Test Accuracy: 69.83%\n",
      "[2025-01-03 00:07:34] Accuracy: 73.91%\n",
      "2025-01-03 00:07:32 Epoch [8/10], Loss: 0.4194, Train Accuracy: 89.00%, Test Accuracy: 73.91%\n",
      "2025-01-03 00:07:34 Epoch [9/10], Loss: 0.2436, Train Accuracy: 93.00%, Test Accuracy: 73.91%\n"
     ]
    },
    {
     "name": "stderr",
     "output_type": "stream",
     "text": [
      "[I 2025-01-03 00:07:36,254] Trial 21 finished with value: 74.88 and parameters: {'lr_simclr': 0.001543235246269389, 'lr_finetune': 0.005899813705335031}. Best is trial 15 with value: 83.14.\n"
     ]
    },
    {
     "name": "stdout",
     "output_type": "stream",
     "text": [
      "[2025-01-03 00:07:36] Accuracy: 74.88%\n",
      "2025-01-03 00:07:34 Epoch [10/10], Loss: 0.2149, Train Accuracy: 93.00%, Test Accuracy: 74.88%\n",
      "[2025-01-03 00:08:43] Epoch [1/10], Loss: 4.5544\n",
      "[2025-01-03 00:09:46] Epoch [2/10], Loss: 4.4297\n",
      "[2025-01-03 00:10:51] Epoch [3/10], Loss: 4.4094\n",
      "[2025-01-03 00:11:55] Epoch [4/10], Loss: 4.3985\n",
      "[2025-01-03 00:13:00] Epoch [5/10], Loss: 4.3900\n",
      "[2025-01-03 00:14:07] Epoch [6/10], Loss: 4.3820\n",
      "[2025-01-03 00:15:13] Epoch [7/10], Loss: 4.3785\n",
      "[2025-01-03 00:16:21] Epoch [8/10], Loss: 4.3750\n",
      "[2025-01-03 00:17:28] Epoch [9/10], Loss: 4.3729\n",
      "[2025-01-03 00:18:35] Epoch [10/10], Loss: 4.3713\n",
      "[2025-01-03 00:18:37] Accuracy: 19.81%\n",
      "2025-01-03 00:18:35 Epoch [1/10], Loss: 4.0454, Train Accuracy: 10.00%, Test Accuracy: 19.81%\n",
      "[2025-01-03 00:18:39] Accuracy: 27.21%\n",
      "2025-01-03 00:18:37 Epoch [2/10], Loss: 2.6241, Train Accuracy: 19.00%, Test Accuracy: 27.21%\n",
      "2025-01-03 00:18:39 Epoch [3/10], Loss: 2.2453, Train Accuracy: 31.00%, Test Accuracy: 27.21%\n",
      "[2025-01-03 00:18:40] Accuracy: 33.22%\n",
      "2025-01-03 00:18:39 Epoch [4/10], Loss: 2.0248, Train Accuracy: 34.00%, Test Accuracy: 33.22%\n",
      "2025-01-03 00:18:40 Epoch [5/10], Loss: 1.9918, Train Accuracy: 40.00%, Test Accuracy: 33.22%\n",
      "[2025-01-03 00:18:42] Accuracy: 38.37%\n",
      "2025-01-03 00:18:40 Epoch [6/10], Loss: 1.9871, Train Accuracy: 42.00%, Test Accuracy: 38.37%\n",
      "2025-01-03 00:18:42 Epoch [7/10], Loss: 1.9311, Train Accuracy: 50.00%, Test Accuracy: 38.37%\n",
      "[2025-01-03 00:18:44] Accuracy: 48.60%\n",
      "2025-01-03 00:18:42 Epoch [8/10], Loss: 1.8492, Train Accuracy: 54.00%, Test Accuracy: 48.60%\n",
      "2025-01-03 00:18:44 Epoch [9/10], Loss: 1.7232, Train Accuracy: 62.00%, Test Accuracy: 48.60%\n"
     ]
    },
    {
     "name": "stderr",
     "output_type": "stream",
     "text": [
      "[I 2025-01-03 00:18:46,679] Trial 22 finished with value: 57.02 and parameters: {'lr_simclr': 0.00196122728514367, 'lr_finetune': 0.003783415486771454}. Best is trial 15 with value: 83.14.\n"
     ]
    },
    {
     "name": "stdout",
     "output_type": "stream",
     "text": [
      "[2025-01-03 00:18:46] Accuracy: 57.02%\n",
      "2025-01-03 00:18:44 Epoch [10/10], Loss: 1.5546, Train Accuracy: 61.00%, Test Accuracy: 57.02%\n",
      "[2025-01-03 00:19:52] Epoch [1/10], Loss: 4.6214\n",
      "[2025-01-03 00:20:58] Epoch [2/10], Loss: 4.4820\n",
      "[2025-01-03 00:22:06] Epoch [3/10], Loss: 4.4599\n",
      "[2025-01-03 00:23:14] Epoch [4/10], Loss: 4.4419\n",
      "[2025-01-03 00:24:20] Epoch [5/10], Loss: 4.4311\n",
      "[2025-01-03 00:25:27] Epoch [6/10], Loss: 4.4237\n",
      "[2025-01-03 00:26:33] Epoch [7/10], Loss: 4.4179\n",
      "[2025-01-03 00:27:39] Epoch [8/10], Loss: 4.4147\n",
      "[2025-01-03 00:28:45] Epoch [9/10], Loss: 4.4126\n",
      "[2025-01-03 00:29:53] Epoch [10/10], Loss: 4.4117\n",
      "[2025-01-03 00:29:55] Accuracy: 17.42%\n",
      "2025-01-03 00:29:53 Epoch [1/10], Loss: 2.5624, Train Accuracy: 4.00%, Test Accuracy: 17.42%\n",
      "[2025-01-03 00:29:57] Accuracy: 26.23%\n",
      "2025-01-03 00:29:55 Epoch [2/10], Loss: 2.0636, Train Accuracy: 23.00%, Test Accuracy: 26.23%\n",
      "2025-01-03 00:29:57 Epoch [3/10], Loss: 1.8596, Train Accuracy: 36.00%, Test Accuracy: 26.23%\n",
      "[2025-01-03 00:29:59] Accuracy: 61.30%\n",
      "2025-01-03 00:29:57 Epoch [4/10], Loss: 1.3669, Train Accuracy: 67.00%, Test Accuracy: 61.30%\n",
      "2025-01-03 00:29:59 Epoch [5/10], Loss: 0.9266, Train Accuracy: 66.00%, Test Accuracy: 61.30%\n",
      "[2025-01-03 00:30:00] Accuracy: 78.33%\n",
      "2025-01-03 00:29:59 Epoch [6/10], Loss: 0.7256, Train Accuracy: 80.00%, Test Accuracy: 78.33%\n",
      "2025-01-03 00:30:00 Epoch [7/10], Loss: 0.4419, Train Accuracy: 82.00%, Test Accuracy: 78.33%\n",
      "[2025-01-03 00:30:02] Accuracy: 80.36%\n",
      "2025-01-03 00:30:00 Epoch [8/10], Loss: 0.3646, Train Accuracy: 86.00%, Test Accuracy: 80.36%\n",
      "2025-01-03 00:30:02 Epoch [9/10], Loss: 0.2376, Train Accuracy: 92.00%, Test Accuracy: 80.36%\n"
     ]
    },
    {
     "name": "stderr",
     "output_type": "stream",
     "text": [
      "[I 2025-01-03 00:30:04,654] Trial 23 finished with value: 83.97 and parameters: {'lr_simclr': 0.0004918294474501782, 'lr_finetune': 0.006629426356977801}. Best is trial 23 with value: 83.97.\n"
     ]
    },
    {
     "name": "stdout",
     "output_type": "stream",
     "text": [
      "[2025-01-03 00:30:04] Accuracy: 83.97%\n",
      "2025-01-03 00:30:02 Epoch [10/10], Loss: 0.1832, Train Accuracy: 95.00%, Test Accuracy: 83.97%\n",
      "[2025-01-03 00:31:11] Epoch [1/10], Loss: 4.6404\n",
      "[2025-01-03 00:32:16] Epoch [2/10], Loss: 4.4872\n",
      "[2025-01-03 00:33:24] Epoch [3/10], Loss: 4.4619\n",
      "[2025-01-03 00:34:33] Epoch [4/10], Loss: 4.4483\n",
      "[2025-01-03 00:35:38] Epoch [5/10], Loss: 4.4367\n",
      "[2025-01-03 00:36:44] Epoch [6/10], Loss: 4.4297\n",
      "[2025-01-03 00:37:51] Epoch [7/10], Loss: 4.4248\n",
      "[2025-01-03 00:38:57] Epoch [8/10], Loss: 4.4211\n",
      "[2025-01-03 00:40:05] Epoch [9/10], Loss: 4.4192\n",
      "[2025-01-03 00:41:11] Epoch [10/10], Loss: 4.4178\n",
      "[2025-01-03 00:41:13] Accuracy: 10.04%\n",
      "2025-01-03 00:41:12 Epoch [1/10], Loss: 2.4582, Train Accuracy: 13.00%, Test Accuracy: 10.04%\n",
      "[2025-01-03 00:41:15] Accuracy: 28.53%\n",
      "2025-01-03 00:41:13 Epoch [2/10], Loss: 2.2073, Train Accuracy: 20.00%, Test Accuracy: 28.53%\n",
      "2025-01-03 00:41:15 Epoch [3/10], Loss: 1.7647, Train Accuracy: 44.00%, Test Accuracy: 28.53%\n",
      "[2025-01-03 00:41:17] Accuracy: 60.22%\n",
      "2025-01-03 00:41:15 Epoch [4/10], Loss: 1.6471, Train Accuracy: 58.00%, Test Accuracy: 60.22%\n",
      "2025-01-03 00:41:17 Epoch [5/10], Loss: 1.4152, Train Accuracy: 72.00%, Test Accuracy: 60.22%\n",
      "[2025-01-03 00:41:19] Accuracy: 65.96%\n",
      "2025-01-03 00:41:17 Epoch [6/10], Loss: 1.0841, Train Accuracy: 86.00%, Test Accuracy: 65.96%\n",
      "2025-01-03 00:41:19 Epoch [7/10], Loss: 0.7027, Train Accuracy: 91.00%, Test Accuracy: 65.96%\n",
      "[2025-01-03 00:41:20] Accuracy: 69.52%\n",
      "2025-01-03 00:41:19 Epoch [8/10], Loss: 0.5399, Train Accuracy: 89.00%, Test Accuracy: 69.52%\n",
      "2025-01-03 00:41:20 Epoch [9/10], Loss: 0.3662, Train Accuracy: 93.00%, Test Accuracy: 69.52%\n"
     ]
    },
    {
     "name": "stderr",
     "output_type": "stream",
     "text": [
      "[I 2025-01-03 00:41:22,560] Trial 24 finished with value: 73.36 and parameters: {'lr_simclr': 0.0004576912164272012, 'lr_finetune': 0.0025066927107046983}. Best is trial 23 with value: 83.97.\n"
     ]
    },
    {
     "name": "stdout",
     "output_type": "stream",
     "text": [
      "[2025-01-03 00:41:22] Accuracy: 73.36%\n",
      "2025-01-03 00:41:20 Epoch [10/10], Loss: 0.2709, Train Accuracy: 92.00%, Test Accuracy: 73.36%\n",
      "[2025-01-03 00:42:29] Epoch [1/10], Loss: 4.5955\n",
      "[2025-01-03 00:43:37] Epoch [2/10], Loss: 4.4540\n",
      "[2025-01-03 00:44:44] Epoch [3/10], Loss: 4.4295\n",
      "[2025-01-03 00:45:51] Epoch [4/10], Loss: 4.4161\n",
      "[2025-01-03 00:46:59] Epoch [5/10], Loss: 4.4064\n",
      "[2025-01-03 00:48:07] Epoch [6/10], Loss: 4.3991\n",
      "[2025-01-03 00:49:15] Epoch [7/10], Loss: 4.3937\n",
      "[2025-01-03 00:50:23] Epoch [8/10], Loss: 4.3903\n",
      "[2025-01-03 00:51:30] Epoch [9/10], Loss: 4.3862\n",
      "[2025-01-03 00:52:40] Epoch [10/10], Loss: 4.3843\n",
      "[2025-01-03 00:52:42] Accuracy: 34.71%\n",
      "2025-01-03 00:52:40 Epoch [1/10], Loss: 2.5918, Train Accuracy: 4.00%, Test Accuracy: 34.71%\n",
      "[2025-01-03 00:52:44] Accuracy: 42.46%\n",
      "2025-01-03 00:52:42 Epoch [2/10], Loss: 1.9405, Train Accuracy: 45.00%, Test Accuracy: 42.46%\n",
      "2025-01-03 00:52:44 Epoch [3/10], Loss: 1.5601, Train Accuracy: 62.00%, Test Accuracy: 42.46%\n",
      "[2025-01-03 00:52:45] Accuracy: 64.14%\n",
      "2025-01-03 00:52:44 Epoch [4/10], Loss: 1.0343, Train Accuracy: 72.00%, Test Accuracy: 64.14%\n",
      "2025-01-03 00:52:46 Epoch [5/10], Loss: 0.7882, Train Accuracy: 77.00%, Test Accuracy: 64.14%\n",
      "[2025-01-03 00:52:47] Accuracy: 71.66%\n",
      "2025-01-03 00:52:46 Epoch [6/10], Loss: 0.4544, Train Accuracy: 84.00%, Test Accuracy: 71.66%\n",
      "2025-01-03 00:52:47 Epoch [7/10], Loss: 0.3730, Train Accuracy: 86.00%, Test Accuracy: 71.66%\n",
      "[2025-01-03 00:52:49] Accuracy: 68.43%\n",
      "2025-01-03 00:52:47 Epoch [8/10], Loss: 0.2546, Train Accuracy: 94.00%, Test Accuracy: 68.43%\n",
      "2025-01-03 00:52:49 Epoch [9/10], Loss: 0.2652, Train Accuracy: 90.00%, Test Accuracy: 68.43%\n"
     ]
    },
    {
     "name": "stderr",
     "output_type": "stream",
     "text": [
      "[I 2025-01-03 00:52:51,695] Trial 25 finished with value: 71.66 and parameters: {'lr_simclr': 0.000878230932856854, 'lr_finetune': 0.007398569125030071}. Best is trial 23 with value: 83.97.\n"
     ]
    },
    {
     "name": "stdout",
     "output_type": "stream",
     "text": [
      "[2025-01-03 00:52:51] Accuracy: 69.79%\n",
      "2025-01-03 00:52:49 Epoch [10/10], Loss: 0.1958, Train Accuracy: 93.00%, Test Accuracy: 69.79%\n",
      "[2025-01-03 00:53:59] Epoch [1/10], Loss: 4.6363\n",
      "[2025-01-03 00:55:07] Epoch [2/10], Loss: 4.4937\n",
      "[2025-01-03 00:56:13] Epoch [3/10], Loss: 4.4718\n",
      "[2025-01-03 00:57:20] Epoch [4/10], Loss: 4.4622\n",
      "[2025-01-03 00:58:29] Epoch [5/10], Loss: 4.4550\n",
      "[2025-01-03 00:59:36] Epoch [6/10], Loss: 4.4480\n",
      "[2025-01-03 01:00:44] Epoch [7/10], Loss: 4.4434\n",
      "[2025-01-03 01:01:48] Epoch [8/10], Loss: 4.4394\n",
      "[2025-01-03 01:02:54] Epoch [9/10], Loss: 4.4375\n",
      "[2025-01-03 01:04:00] Epoch [10/10], Loss: 4.4367\n",
      "[2025-01-03 01:04:02] Accuracy: 16.94%\n",
      "2025-01-03 01:04:00 Epoch [1/10], Loss: 2.3683, Train Accuracy: 9.00%, Test Accuracy: 16.94%\n",
      "[2025-01-03 01:04:04] Accuracy: 45.23%\n",
      "2025-01-03 01:04:02 Epoch [2/10], Loss: 1.9413, Train Accuracy: 27.00%, Test Accuracy: 45.23%\n",
      "2025-01-03 01:04:04 Epoch [3/10], Loss: 1.5084, Train Accuracy: 61.00%, Test Accuracy: 45.23%\n",
      "[2025-01-03 01:04:06] Accuracy: 63.17%\n",
      "2025-01-03 01:04:04 Epoch [4/10], Loss: 1.0755, Train Accuracy: 70.00%, Test Accuracy: 63.17%\n",
      "2025-01-03 01:04:06 Epoch [5/10], Loss: 0.8365, Train Accuracy: 70.00%, Test Accuracy: 63.17%\n",
      "[2025-01-03 01:04:08] Accuracy: 70.70%\n",
      "2025-01-03 01:04:06 Epoch [6/10], Loss: 0.6292, Train Accuracy: 80.00%, Test Accuracy: 70.70%\n",
      "2025-01-03 01:04:08 Epoch [7/10], Loss: 0.5635, Train Accuracy: 77.00%, Test Accuracy: 70.70%\n",
      "[2025-01-03 01:04:10] Accuracy: 72.68%\n",
      "2025-01-03 01:04:08 Epoch [8/10], Loss: 0.3288, Train Accuracy: 90.00%, Test Accuracy: 72.68%\n",
      "2025-01-03 01:04:10 Epoch [9/10], Loss: 0.3266, Train Accuracy: 88.00%, Test Accuracy: 72.68%\n"
     ]
    },
    {
     "name": "stderr",
     "output_type": "stream",
     "text": [
      "[I 2025-01-03 01:04:11,972] Trial 26 finished with value: 81.22 and parameters: {'lr_simclr': 0.00028845109052901214, 'lr_finetune': 0.0037399299428063732}. Best is trial 23 with value: 83.97.\n"
     ]
    },
    {
     "name": "stdout",
     "output_type": "stream",
     "text": [
      "[2025-01-03 01:04:11] Accuracy: 81.22%\n",
      "2025-01-03 01:04:10 Epoch [10/10], Loss: 0.2358, Train Accuracy: 92.00%, Test Accuracy: 81.22%\n",
      "[2025-01-03 01:05:17] Epoch [1/10], Loss: 4.5951\n",
      "[2025-01-03 01:06:23] Epoch [2/10], Loss: 4.4688\n",
      "[2025-01-03 01:07:29] Epoch [3/10], Loss: 4.4450\n",
      "[2025-01-03 01:08:38] Epoch [4/10], Loss: 4.4311\n",
      "[2025-01-03 01:09:47] Epoch [5/10], Loss: 4.4217\n",
      "[2025-01-03 01:10:58] Epoch [6/10], Loss: 4.4144\n",
      "[2025-01-03 01:12:09] Epoch [7/10], Loss: 4.4081\n",
      "[2025-01-03 01:13:26] Epoch [8/10], Loss: 4.4040\n",
      "[2025-01-03 01:14:43] Epoch [9/10], Loss: 4.4013\n",
      "[2025-01-03 01:16:04] Epoch [10/10], Loss: 4.3998\n",
      "[2025-01-03 01:16:06] Accuracy: 31.10%\n",
      "2025-01-03 01:16:04 Epoch [1/10], Loss: 2.3967, Train Accuracy: 13.00%, Test Accuracy: 31.10%\n",
      "[2025-01-03 01:16:07] Accuracy: 44.72%\n",
      "2025-01-03 01:16:06 Epoch [2/10], Loss: 1.8038, Train Accuracy: 41.00%, Test Accuracy: 44.72%\n",
      "2025-01-03 01:16:08 Epoch [3/10], Loss: 1.3278, Train Accuracy: 58.00%, Test Accuracy: 44.72%\n",
      "[2025-01-03 01:16:09] Accuracy: 70.62%\n",
      "2025-01-03 01:16:08 Epoch [4/10], Loss: 0.8092, Train Accuracy: 75.00%, Test Accuracy: 70.62%\n",
      "2025-01-03 01:16:10 Epoch [5/10], Loss: 0.5552, Train Accuracy: 86.00%, Test Accuracy: 70.62%\n",
      "[2025-01-03 01:16:11] Accuracy: 78.37%\n",
      "2025-01-03 01:16:10 Epoch [6/10], Loss: 0.3515, Train Accuracy: 91.00%, Test Accuracy: 78.37%\n",
      "2025-01-03 01:16:11 Epoch [7/10], Loss: 0.1632, Train Accuracy: 92.00%, Test Accuracy: 78.37%\n",
      "[2025-01-03 01:16:13] Accuracy: 78.59%\n",
      "2025-01-03 01:16:11 Epoch [8/10], Loss: 0.1268, Train Accuracy: 97.00%, Test Accuracy: 78.59%\n",
      "2025-01-03 01:16:13 Epoch [9/10], Loss: 0.0961, Train Accuracy: 98.00%, Test Accuracy: 78.59%\n"
     ]
    },
    {
     "name": "stderr",
     "output_type": "stream",
     "text": [
      "[I 2025-01-03 01:16:15,431] Trial 27 finished with value: 78.59 and parameters: {'lr_simclr': 0.0006438465216914077, 'lr_finetune': 0.006326102212212433}. Best is trial 23 with value: 83.97.\n"
     ]
    },
    {
     "name": "stdout",
     "output_type": "stream",
     "text": [
      "[2025-01-03 01:16:15] Accuracy: 77.60%\n",
      "2025-01-03 01:16:13 Epoch [10/10], Loss: 0.0709, Train Accuracy: 96.00%, Test Accuracy: 77.60%\n",
      "[2025-01-03 01:17:34] Epoch [1/10], Loss: 4.6131\n",
      "[2025-01-03 01:18:59] Epoch [2/10], Loss: 4.4795\n",
      "[2025-01-03 01:20:23] Epoch [3/10], Loss: 4.4564\n",
      "[2025-01-03 01:21:44] Epoch [4/10], Loss: 4.4419\n",
      "[2025-01-03 01:23:07] Epoch [5/10], Loss: 4.4319\n",
      "[2025-01-03 01:24:29] Epoch [6/10], Loss: 4.4249\n",
      "[2025-01-03 01:25:47] Epoch [7/10], Loss: 4.4192\n",
      "[2025-01-03 01:27:09] Epoch [8/10], Loss: 4.4160\n",
      "[2025-01-03 01:28:27] Epoch [9/10], Loss: 4.4138\n",
      "[2025-01-03 01:29:48] Epoch [10/10], Loss: 4.4130\n",
      "[2025-01-03 01:29:50] Accuracy: 23.52%\n",
      "2025-01-03 01:29:48 Epoch [1/10], Loss: 2.3289, Train Accuracy: 18.00%, Test Accuracy: 23.52%\n",
      "[2025-01-03 01:29:53] Accuracy: 30.75%\n",
      "2025-01-03 01:29:50 Epoch [2/10], Loss: 2.2085, Train Accuracy: 20.00%, Test Accuracy: 30.75%\n",
      "2025-01-03 01:29:53 Epoch [3/10], Loss: 2.0272, Train Accuracy: 34.00%, Test Accuracy: 30.75%\n",
      "[2025-01-03 01:29:55] Accuracy: 38.43%\n",
      "2025-01-03 01:29:53 Epoch [4/10], Loss: 1.8899, Train Accuracy: 40.00%, Test Accuracy: 38.43%\n",
      "2025-01-03 01:29:55 Epoch [5/10], Loss: 1.7398, Train Accuracy: 56.00%, Test Accuracy: 38.43%\n",
      "[2025-01-03 01:29:57] Accuracy: 46.98%\n",
      "2025-01-03 01:29:55 Epoch [6/10], Loss: 1.6617, Train Accuracy: 58.00%, Test Accuracy: 46.98%\n",
      "2025-01-03 01:29:57 Epoch [7/10], Loss: 1.5265, Train Accuracy: 65.00%, Test Accuracy: 46.98%\n",
      "[2025-01-03 01:29:59] Accuracy: 55.54%\n",
      "2025-01-03 01:29:57 Epoch [8/10], Loss: 1.4089, Train Accuracy: 63.00%, Test Accuracy: 55.54%\n",
      "2025-01-03 01:29:59 Epoch [9/10], Loss: 1.2878, Train Accuracy: 69.00%, Test Accuracy: 55.54%\n"
     ]
    },
    {
     "name": "stderr",
     "output_type": "stream",
     "text": [
      "[I 2025-01-03 01:30:02,027] Trial 28 finished with value: 60.76 and parameters: {'lr_simclr': 0.0004923043264801173, 'lr_finetune': 0.00042942827936859844}. Best is trial 23 with value: 83.97.\n"
     ]
    },
    {
     "name": "stdout",
     "output_type": "stream",
     "text": [
      "[2025-01-03 01:30:02] Accuracy: 60.76%\n",
      "2025-01-03 01:29:59 Epoch [10/10], Loss: 1.1836, Train Accuracy: 72.00%, Test Accuracy: 60.76%\n",
      "[2025-01-03 01:31:21] Epoch [1/10], Loss: 4.5578\n",
      "[2025-01-03 01:32:42] Epoch [2/10], Loss: 4.4496\n",
      "[2025-01-03 01:34:02] Epoch [3/10], Loss: 4.4249\n",
      "[2025-01-03 01:35:23] Epoch [4/10], Loss: 4.4109\n",
      "[2025-01-03 01:36:45] Epoch [5/10], Loss: 4.4009\n",
      "[2025-01-03 01:38:05] Epoch [6/10], Loss: 4.3940\n",
      "[2025-01-03 01:39:20] Epoch [7/10], Loss: 4.3879\n",
      "[2025-01-03 01:40:45] Epoch [8/10], Loss: 4.3835\n"
     ]
    }
   ],
   "source": [
    "# Create an Optuna study and optimize the objective function\n",
    "set_seed(7 * 5 * 3 * 2 * 2)\n",
    "\n",
    "# Create and run the study\n",
    "study_name = \"Optimize_SimCLR_Learning_Rates\"\n",
    "study = optuna.create_study(study_name=study_name, direction='maximize')\n",
    "study.optimize(objective, n_trials=50)  # Adjust number of trials as needed\n",
    "\n",
    "# Print results\n",
    "print(\"Best trial:\")\n",
    "print(\"  Value: \", study.best_trial.value)\n",
    "print(\"  Params: \")\n",
    "for key, value in study.best_trial.params.items():\n",
    "    print(f\"    {key}: {value}\")"
   ]
  },
  {
   "cell_type": "markdown",
   "metadata": {},
   "source": [
    "<h1> Visualize Hyperparameter Optimization Results </h1>"
   ]
  },
  {
   "cell_type": "code",
   "execution_count": null,
   "metadata": {},
   "outputs": [],
   "source": [
    "# Optimization History Plot\n",
    "history_plot = optuna.visualization.plot_optimization_history(study)\n",
    "history_plot.show()\n",
    "\n",
    "# Hyperparameter Importance Plot\n",
    "importance_plot = optuna.visualization.plot_param_importances(study)\n",
    "importance_plot.show()\n",
    "\n",
    "# Parallel Coordinate Plot\n",
    "parallel_plot = optuna.visualization.plot_parallel_coordinate(study)\n",
    "parallel_plot.show()\n",
    "\n",
    "# Slice Plot\n",
    "slice_plot = optuna.visualization.plot_slice(study)\n",
    "slice_plot.show()\n",
    "\n",
    "# Contour Plot\n",
    "contour_plot = optuna.visualization.plot_contour(study)\n",
    "contour_plot.show()\n",
    "\n",
    "# EDF Plot\n",
    "edf_plot = optuna.visualization.plot_edf(study)\n",
    "edf_plot.show()"
   ]
  }
 ],
 "metadata": {
  "kernelspec": {
   "display_name": "cuda",
   "language": "python",
   "name": "python3"
  },
  "language_info": {
   "codemirror_mode": {
    "name": "ipython",
    "version": 3
   },
   "file_extension": ".py",
   "mimetype": "text/x-python",
   "name": "python",
   "nbconvert_exporter": "python",
   "pygments_lexer": "ipython3",
   "version": "3.11.10"
  }
 },
 "nbformat": 4,
 "nbformat_minor": 2
}
